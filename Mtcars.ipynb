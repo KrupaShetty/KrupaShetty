{
 "cells": [
  {
   "cell_type": "code",
   "execution_count": 1,
   "metadata": {},
   "outputs": [],
   "source": [
    "import numpy as np\n",
    "import pandas as pd\n",
    "import matplotlib.pyplot as plt\n",
    "import seaborn as sns\n",
    "import warnings \n",
    "warnings.filterwarnings('ignore')\n",
    "from scipy import stats"
   ]
  },
  {
   "cell_type": "code",
   "execution_count": 2,
   "metadata": {},
   "outputs": [
    {
     "data": {
      "text/html": [
       "<div>\n",
       "<style scoped>\n",
       "    .dataframe tbody tr th:only-of-type {\n",
       "        vertical-align: middle;\n",
       "    }\n",
       "\n",
       "    .dataframe tbody tr th {\n",
       "        vertical-align: top;\n",
       "    }\n",
       "\n",
       "    .dataframe thead th {\n",
       "        text-align: right;\n",
       "    }\n",
       "</style>\n",
       "<table border=\"1\" class=\"dataframe\">\n",
       "  <thead>\n",
       "    <tr style=\"text-align: right;\">\n",
       "      <th></th>\n",
       "      <th>mpg</th>\n",
       "      <th>cyl</th>\n",
       "      <th>disp</th>\n",
       "      <th>hp</th>\n",
       "      <th>drat</th>\n",
       "      <th>wt</th>\n",
       "      <th>qsec</th>\n",
       "      <th>vs</th>\n",
       "      <th>am</th>\n",
       "      <th>gear</th>\n",
       "      <th>carb</th>\n",
       "    </tr>\n",
       "    <tr>\n",
       "      <th>model</th>\n",
       "      <th></th>\n",
       "      <th></th>\n",
       "      <th></th>\n",
       "      <th></th>\n",
       "      <th></th>\n",
       "      <th></th>\n",
       "      <th></th>\n",
       "      <th></th>\n",
       "      <th></th>\n",
       "      <th></th>\n",
       "      <th></th>\n",
       "    </tr>\n",
       "  </thead>\n",
       "  <tbody>\n",
       "    <tr>\n",
       "      <th>Mazda RX4</th>\n",
       "      <td>21.0</td>\n",
       "      <td>6</td>\n",
       "      <td>160.0</td>\n",
       "      <td>110</td>\n",
       "      <td>3.90</td>\n",
       "      <td>2.620</td>\n",
       "      <td>16.46</td>\n",
       "      <td>0</td>\n",
       "      <td>1</td>\n",
       "      <td>4</td>\n",
       "      <td>4</td>\n",
       "    </tr>\n",
       "    <tr>\n",
       "      <th>Mazda RX4 Wag</th>\n",
       "      <td>21.0</td>\n",
       "      <td>6</td>\n",
       "      <td>160.0</td>\n",
       "      <td>110</td>\n",
       "      <td>3.90</td>\n",
       "      <td>2.875</td>\n",
       "      <td>17.02</td>\n",
       "      <td>0</td>\n",
       "      <td>1</td>\n",
       "      <td>4</td>\n",
       "      <td>4</td>\n",
       "    </tr>\n",
       "    <tr>\n",
       "      <th>Datsun 710</th>\n",
       "      <td>22.8</td>\n",
       "      <td>4</td>\n",
       "      <td>108.0</td>\n",
       "      <td>93</td>\n",
       "      <td>3.85</td>\n",
       "      <td>2.320</td>\n",
       "      <td>18.61</td>\n",
       "      <td>1</td>\n",
       "      <td>1</td>\n",
       "      <td>4</td>\n",
       "      <td>1</td>\n",
       "    </tr>\n",
       "    <tr>\n",
       "      <th>Hornet 4 Drive</th>\n",
       "      <td>21.4</td>\n",
       "      <td>6</td>\n",
       "      <td>258.0</td>\n",
       "      <td>110</td>\n",
       "      <td>3.08</td>\n",
       "      <td>3.215</td>\n",
       "      <td>19.44</td>\n",
       "      <td>1</td>\n",
       "      <td>0</td>\n",
       "      <td>3</td>\n",
       "      <td>1</td>\n",
       "    </tr>\n",
       "    <tr>\n",
       "      <th>Hornet Sportabout</th>\n",
       "      <td>18.7</td>\n",
       "      <td>8</td>\n",
       "      <td>360.0</td>\n",
       "      <td>175</td>\n",
       "      <td>3.15</td>\n",
       "      <td>3.440</td>\n",
       "      <td>17.02</td>\n",
       "      <td>0</td>\n",
       "      <td>0</td>\n",
       "      <td>3</td>\n",
       "      <td>2</td>\n",
       "    </tr>\n",
       "  </tbody>\n",
       "</table>\n",
       "</div>"
      ],
      "text/plain": [
       "                    mpg  cyl   disp   hp  drat     wt   qsec  vs  am  gear  \\\n",
       "model                                                                        \n",
       "Mazda RX4          21.0    6  160.0  110  3.90  2.620  16.46   0   1     4   \n",
       "Mazda RX4 Wag      21.0    6  160.0  110  3.90  2.875  17.02   0   1     4   \n",
       "Datsun 710         22.8    4  108.0   93  3.85  2.320  18.61   1   1     4   \n",
       "Hornet 4 Drive     21.4    6  258.0  110  3.08  3.215  19.44   1   0     3   \n",
       "Hornet Sportabout  18.7    8  360.0  175  3.15  3.440  17.02   0   0     3   \n",
       "\n",
       "                   carb  \n",
       "model                    \n",
       "Mazda RX4             4  \n",
       "Mazda RX4 Wag         4  \n",
       "Datsun 710            1  \n",
       "Hornet 4 Drive        1  \n",
       "Hornet Sportabout     2  "
      ]
     },
     "execution_count": 2,
     "metadata": {},
     "output_type": "execute_result"
    }
   ],
   "source": [
    "mtcars=pd.read_csv('C:/Users/vijay/Desktop/krupa/GL/SLR/mtcars.csv')\n",
    "mtcars=mtcars.set_index('model')\n",
    "mtcars.head()"
   ]
  },
  {
   "cell_type": "code",
   "execution_count": 3,
   "metadata": {},
   "outputs": [
    {
     "name": "stdout",
     "output_type": "stream",
     "text": [
      "<class 'pandas.core.frame.DataFrame'>\n",
      "Index: 32 entries, Mazda RX4 to Volvo 142E\n",
      "Data columns (total 11 columns):\n",
      "mpg     32 non-null float64\n",
      "cyl     32 non-null int64\n",
      "disp    32 non-null float64\n",
      "hp      32 non-null int64\n",
      "drat    32 non-null float64\n",
      "wt      32 non-null float64\n",
      "qsec    32 non-null float64\n",
      "vs      32 non-null int64\n",
      "am      32 non-null int64\n",
      "gear    32 non-null int64\n",
      "carb    32 non-null int64\n",
      "dtypes: float64(5), int64(6)\n",
      "memory usage: 3.0+ KB\n"
     ]
    }
   ],
   "source": [
    "mtcars.info()"
   ]
  },
  {
   "cell_type": "code",
   "execution_count": 4,
   "metadata": {},
   "outputs": [
    {
     "data": {
      "text/plain": [
       "(32, 11)"
      ]
     },
     "execution_count": 4,
     "metadata": {},
     "output_type": "execute_result"
    }
   ],
   "source": [
    "mtcars.shape"
   ]
  },
  {
   "cell_type": "code",
   "execution_count": 5,
   "metadata": {},
   "outputs": [
    {
     "data": {
      "text/plain": [
       "352"
      ]
     },
     "execution_count": 5,
     "metadata": {},
     "output_type": "execute_result"
    }
   ],
   "source": [
    "mtcars.size"
   ]
  },
  {
   "cell_type": "code",
   "execution_count": 6,
   "metadata": {},
   "outputs": [
    {
     "data": {
      "text/plain": [
       "8    14\n",
       "4    11\n",
       "6     7\n",
       "Name: cyl, dtype: int64"
      ]
     },
     "execution_count": 6,
     "metadata": {},
     "output_type": "execute_result"
    }
   ],
   "source": [
    "mtcars['cyl'].value_counts()"
   ]
  },
  {
   "cell_type": "code",
   "execution_count": 11,
   "metadata": {},
   "outputs": [
    {
     "data": {
      "text/plain": [
       "<matplotlib.axes._subplots.AxesSubplot at 0x2cfe5d552e8>"
      ]
     },
     "execution_count": 11,
     "metadata": {},
     "output_type": "execute_result"
    },
    {
     "data": {
      "text/plain": [
       "<Figure size 1152x1008 with 0 Axes>"
      ]
     },
     "metadata": {},
     "output_type": "display_data"
    },
    {
     "data": {
      "image/png": "[encoded data removed]",
      "text/plain": [
       "<Figure size 432x288 with 1 Axes>"
      ]
     },
     "metadata": {
      "needs_background": "light"
     },
     "output_type": "display_data"
    }
   ],
   "source": [
    "plt.figure(figsize=(16,14))\n",
    "mtcars.boxplot(column='mpg',by='cyl')"
   ]
  },
  {
   "cell_type": "code",
   "execution_count": 12,
   "metadata": {},
   "outputs": [
    {
     "data": {
      "text/plain": [
       "0    18\n",
       "1    14\n",
       "Name: vs, dtype: int64"
      ]
     },
     "execution_count": 12,
     "metadata": {},
     "output_type": "execute_result"
    }
   ],
   "source": [
    "mtcars['vs'].value_counts()"
   ]
  },
  {
   "cell_type": "code",
   "execution_count": 13,
   "metadata": {},
   "outputs": [
    {
     "data": {
      "text/plain": [
       "<matplotlib.axes._subplots.AxesSubplot at 0x2cfe5de3eb8>"
      ]
     },
     "execution_count": 13,
     "metadata": {},
     "output_type": "execute_result"
    },
    {
     "data": {
      "image/png": "[encoded data removed]",
      "text/plain": [
       "<Figure size 432x288 with 1 Axes>"
      ]
     },
     "metadata": {
      "needs_background": "light"
     },
     "output_type": "display_data"
    }
   ],
   "source": [
    "mtcars.boxplot(column='mpg',by='vs')"
   ]
  },
  {
   "cell_type": "code",
   "execution_count": 14,
   "metadata": {},
   "outputs": [
    {
     "data": {
      "text/plain": [
       "0    19\n",
       "1    13\n",
       "Name: am, dtype: int64"
      ]
     },
     "execution_count": 14,
     "metadata": {},
     "output_type": "execute_result"
    }
   ],
   "source": [
    "mtcars['am'].value_counts()"
   ]
  },
  {
   "cell_type": "code",
   "execution_count": 15,
   "metadata": {},
   "outputs": [
    {
     "data": {
      "text/plain": [
       "<matplotlib.axes._subplots.AxesSubplot at 0x2cfe5df7048>"
      ]
     },
     "execution_count": 15,
     "metadata": {},
     "output_type": "execute_result"
    },
    {
     "data": {
      "image/png": "[encoded data removed]",
      "text/plain": [
       "<Figure size 432x288 with 1 Axes>"
      ]
     },
     "metadata": {
      "needs_background": "light"
     },
     "output_type": "display_data"
    }
   ],
   "source": [
    "mtcars.boxplot(column='mpg',by='am')"
   ]
  },
  {
   "cell_type": "code",
   "execution_count": 16,
   "metadata": {},
   "outputs": [
    {
     "data": {
      "text/plain": [
       "3    15\n",
       "4    12\n",
       "5     5\n",
       "Name: gear, dtype: int64"
      ]
     },
     "execution_count": 16,
     "metadata": {},
     "output_type": "execute_result"
    }
   ],
   "source": [
    "mtcars['gear'].value_counts()"
   ]
  },
  {
   "cell_type": "code",
   "execution_count": 17,
   "metadata": {},
   "outputs": [
    {
     "data": {
      "text/plain": [
       "<matplotlib.axes._subplots.AxesSubplot at 0x2cfe6334be0>"
      ]
     },
     "execution_count": 17,
     "metadata": {},
     "output_type": "execute_result"
    },
    {
     "data": {
      "image/png": "[encoded data removed]",
      "text/plain": [
       "<Figure size 432x288 with 1 Axes>"
      ]
     },
     "metadata": {
      "needs_background": "light"
     },
     "output_type": "display_data"
    }
   ],
   "source": [
    "mtcars.boxplot(column='mpg',by='gear')"
   ]
  },
  {
   "cell_type": "code",
   "execution_count": 18,
   "metadata": {},
   "outputs": [
    {
     "data": {
      "text/plain": [
       "4    10\n",
       "2    10\n",
       "1     7\n",
       "3     3\n",
       "8     1\n",
       "6     1\n",
       "Name: carb, dtype: int64"
      ]
     },
     "execution_count": 18,
     "metadata": {},
     "output_type": "execute_result"
    }
   ],
   "source": [
    "mtcars['carb'].value_counts()"
   ]
  },
  {
   "cell_type": "code",
   "execution_count": 19,
   "metadata": {},
   "outputs": [
    {
     "data": {
      "text/plain": [
       "<matplotlib.axes._subplots.AxesSubplot at 0x2cfe5f2f748>"
      ]
     },
     "execution_count": 19,
     "metadata": {},
     "output_type": "execute_result"
    },
    {
     "data": {
      "image/png": "[encoded data removed]",
      "text/plain": [
       "<Figure size 432x288 with 1 Axes>"
      ]
     },
     "metadata": {
      "needs_background": "light"
     },
     "output_type": "display_data"
    }
   ],
   "source": [
    "mtcars.boxplot(column='mpg',by='carb')"
   ]
  },
  {
   "cell_type": "code",
   "execution_count": 20,
   "metadata": {},
   "outputs": [],
   "source": [
    "df=mtcars.copy()"
   ]
  },
  {
   "cell_type": "code",
   "execution_count": 21,
   "metadata": {},
   "outputs": [
    {
     "data": {
      "text/plain": [
       "<matplotlib.axes._subplots.AxesSubplot at 0x2cfe60a0d68>"
      ]
     },
     "execution_count": 21,
     "metadata": {},
     "output_type": "execute_result"
    },
    {
     "data": {
      "image/png": "[encoded data removed]",
      "text/plain": [
       "<Figure size 432x288 with 1 Axes>"
      ]
     },
     "metadata": {
      "needs_background": "light"
     },
     "output_type": "display_data"
    }
   ],
   "source": [
    "sns.distplot(df['mpg'])"
   ]
  },
  {
   "cell_type": "code",
   "execution_count": 29,
   "metadata": {},
   "outputs": [
    {
     "data": {
      "text/plain": [
       "mpg     1.000000\n",
       "cyl    -0.852162\n",
       "disp   -0.847551\n",
       "hp     -0.776168\n",
       "drat    0.681172\n",
       "wt     -0.867659\n",
       "qsec    0.418684\n",
       "vs      0.664039\n",
       "am      0.599832\n",
       "gear    0.480285\n",
       "carb   -0.550925\n",
       "Name: mpg, dtype: float64"
      ]
     },
     "execution_count": 29,
     "metadata": {},
     "output_type": "execute_result"
    }
   ],
   "source": [
    "df.corr()['mpg']"
   ]
  },
  {
   "cell_type": "code",
   "execution_count": 23,
   "metadata": {},
   "outputs": [
    {
     "data": {
      "text/plain": [
       "<matplotlib.axes._subplots.AxesSubplot at 0x2cfe61603c8>"
      ]
     },
     "execution_count": 23,
     "metadata": {},
     "output_type": "execute_result"
    },
    {
     "data": {
      "image/png": "[encoded data removed]",
      "text/plain": [
       "<Figure size 842.4x595.44 with 2 Axes>"
      ]
     },
     "metadata": {},
     "output_type": "display_data"
    }
   ],
   "source": [
    "sns.set(rc={'figure.figsize':(11.7,8.27)})\n",
    "correlation_matrix = df.corr().round(2)\n",
    "sns.heatmap(data=correlation_matrix, annot=True)"
   ]
  },
  {
   "cell_type": "code",
   "execution_count": 24,
   "metadata": {},
   "outputs": [
    {
     "data": {
      "text/plain": [
       "mpg     0\n",
       "cyl     0\n",
       "disp    0\n",
       "hp      0\n",
       "drat    0\n",
       "wt      0\n",
       "qsec    0\n",
       "vs      0\n",
       "am      0\n",
       "gear    0\n",
       "carb    0\n",
       "dtype: int64"
      ]
     },
     "execution_count": 24,
     "metadata": {},
     "output_type": "execute_result"
    }
   ],
   "source": [
    "df.isnull().sum()"
   ]
  },
  {
   "cell_type": "code",
   "execution_count": 25,
   "metadata": {},
   "outputs": [
    {
     "data": {
      "text/plain": [
       "count    32.000000\n",
       "mean     20.090625\n",
       "std       6.026948\n",
       "min      10.400000\n",
       "25%      15.425000\n",
       "50%      19.200000\n",
       "75%      22.800000\n",
       "max      33.900000\n",
       "Name: mpg, dtype: float64"
      ]
     },
     "execution_count": 25,
     "metadata": {},
     "output_type": "execute_result"
    }
   ],
   "source": [
    "df['mpg'].describe()"
   ]
  },
  {
   "cell_type": "code",
   "execution_count": 26,
   "metadata": {},
   "outputs": [
    {
     "data": {
      "text/plain": [
       "qsec    0.418684\n",
       "gear    0.480285\n",
       "carb    0.550925\n",
       "am      0.599832\n",
       "vs      0.664039\n",
       "drat    0.681172\n",
       "hp      0.776168\n",
       "disp    0.847551\n",
       "cyl     0.852162\n",
       "wt      0.867659\n",
       "mpg     1.000000\n",
       "Name: mpg, dtype: float64"
      ]
     },
     "execution_count": 26,
     "metadata": {},
     "output_type": "execute_result"
    }
   ],
   "source": [
    "abs(df.corr()['mpg']).sort_values()"
   ]
  },
  {
   "cell_type": "code",
   "execution_count": 27,
   "metadata": {},
   "outputs": [],
   "source": [
    "import statsmodels.api as sm\n",
    "from sklearn.model_selection import train_test_split\n",
    "from sklearn.linear_model import LinearRegression\n",
    "from sklearn.feature_selection import RFE\n",
    "from sklearn.linear_model import RidgeCV,LassoCV,Ridge,Lasso"
   ]
  },
  {
   "cell_type": "code",
   "execution_count": 28,
   "metadata": {},
   "outputs": [
    {
     "data": {
      "text/plain": [
       "Index(['mpg', 'cyl', 'disp', 'hp', 'drat', 'wt', 'qsec', 'vs', 'am', 'gear',\n",
       "       'carb'],\n",
       "      dtype='object')"
      ]
     },
     "execution_count": 28,
     "metadata": {},
     "output_type": "execute_result"
    }
   ],
   "source": [
    "df.columns"
   ]
  },
  {
   "cell_type": "code",
   "execution_count": 32,
   "metadata": {},
   "outputs": [
    {
     "data": {
      "text/html": [
       "<div>\n",
       "<style scoped>\n",
       "    .dataframe tbody tr th:only-of-type {\n",
       "        vertical-align: middle;\n",
       "    }\n",
       "\n",
       "    .dataframe tbody tr th {\n",
       "        vertical-align: top;\n",
       "    }\n",
       "\n",
       "    .dataframe thead th {\n",
       "        text-align: right;\n",
       "    }\n",
       "</style>\n",
       "<table border=\"1\" class=\"dataframe\">\n",
       "  <thead>\n",
       "    <tr style=\"text-align: right;\">\n",
       "      <th></th>\n",
       "      <th>mpg</th>\n",
       "      <th>disp</th>\n",
       "      <th>hp</th>\n",
       "      <th>drat</th>\n",
       "      <th>wt</th>\n",
       "      <th>qsec</th>\n",
       "      <th>cyl_4</th>\n",
       "      <th>cyl_6</th>\n",
       "      <th>cyl_8</th>\n",
       "      <th>vs_0</th>\n",
       "      <th>vs_1</th>\n",
       "      <th>am_0</th>\n",
       "      <th>am_1</th>\n",
       "      <th>gear_3</th>\n",
       "      <th>gear_4</th>\n",
       "      <th>gear_5</th>\n",
       "      <th>carb_1</th>\n",
       "      <th>carb_2</th>\n",
       "      <th>carb_3</th>\n",
       "      <th>carb_4</th>\n",
       "      <th>carb_6</th>\n",
       "      <th>carb_8</th>\n",
       "    </tr>\n",
       "    <tr>\n",
       "      <th>model</th>\n",
       "      <th></th>\n",
       "      <th></th>\n",
       "      <th></th>\n",
       "      <th></th>\n",
       "      <th></th>\n",
       "      <th></th>\n",
       "      <th></th>\n",
       "      <th></th>\n",
       "      <th></th>\n",
       "      <th></th>\n",
       "      <th></th>\n",
       "      <th></th>\n",
       "      <th></th>\n",
       "      <th></th>\n",
       "      <th></th>\n",
       "      <th></th>\n",
       "      <th></th>\n",
       "      <th></th>\n",
       "      <th></th>\n",
       "      <th></th>\n",
       "      <th></th>\n",
       "      <th></th>\n",
       "    </tr>\n",
       "  </thead>\n",
       "  <tbody>\n",
       "    <tr>\n",
       "      <th>Mazda RX4</th>\n",
       "      <td>21.0</td>\n",
       "      <td>160.0</td>\n",
       "      <td>110</td>\n",
       "      <td>3.90</td>\n",
       "      <td>2.620</td>\n",
       "      <td>16.46</td>\n",
       "      <td>0</td>\n",
       "      <td>1</td>\n",
       "      <td>0</td>\n",
       "      <td>1</td>\n",
       "      <td>0</td>\n",
       "      <td>0</td>\n",
       "      <td>1</td>\n",
       "      <td>0</td>\n",
       "      <td>1</td>\n",
       "      <td>0</td>\n",
       "      <td>0</td>\n",
       "      <td>0</td>\n",
       "      <td>0</td>\n",
       "      <td>1</td>\n",
       "      <td>0</td>\n",
       "      <td>0</td>\n",
       "    </tr>\n",
       "    <tr>\n",
       "      <th>Mazda RX4 Wag</th>\n",
       "      <td>21.0</td>\n",
       "      <td>160.0</td>\n",
       "      <td>110</td>\n",
       "      <td>3.90</td>\n",
       "      <td>2.875</td>\n",
       "      <td>17.02</td>\n",
       "      <td>0</td>\n",
       "      <td>1</td>\n",
       "      <td>0</td>\n",
       "      <td>1</td>\n",
       "      <td>0</td>\n",
       "      <td>0</td>\n",
       "      <td>1</td>\n",
       "      <td>0</td>\n",
       "      <td>1</td>\n",
       "      <td>0</td>\n",
       "      <td>0</td>\n",
       "      <td>0</td>\n",
       "      <td>0</td>\n",
       "      <td>1</td>\n",
       "      <td>0</td>\n",
       "      <td>0</td>\n",
       "    </tr>\n",
       "    <tr>\n",
       "      <th>Datsun 710</th>\n",
       "      <td>22.8</td>\n",
       "      <td>108.0</td>\n",
       "      <td>93</td>\n",
       "      <td>3.85</td>\n",
       "      <td>2.320</td>\n",
       "      <td>18.61</td>\n",
       "      <td>1</td>\n",
       "      <td>0</td>\n",
       "      <td>0</td>\n",
       "      <td>0</td>\n",
       "      <td>1</td>\n",
       "      <td>0</td>\n",
       "      <td>1</td>\n",
       "      <td>0</td>\n",
       "      <td>1</td>\n",
       "      <td>0</td>\n",
       "      <td>1</td>\n",
       "      <td>0</td>\n",
       "      <td>0</td>\n",
       "      <td>0</td>\n",
       "      <td>0</td>\n",
       "      <td>0</td>\n",
       "    </tr>\n",
       "    <tr>\n",
       "      <th>Hornet 4 Drive</th>\n",
       "      <td>21.4</td>\n",
       "      <td>258.0</td>\n",
       "      <td>110</td>\n",
       "      <td>3.08</td>\n",
       "      <td>3.215</td>\n",
       "      <td>19.44</td>\n",
       "      <td>0</td>\n",
       "      <td>1</td>\n",
       "      <td>0</td>\n",
       "      <td>0</td>\n",
       "      <td>1</td>\n",
       "      <td>1</td>\n",
       "      <td>0</td>\n",
       "      <td>1</td>\n",
       "      <td>0</td>\n",
       "      <td>0</td>\n",
       "      <td>1</td>\n",
       "      <td>0</td>\n",
       "      <td>0</td>\n",
       "      <td>0</td>\n",
       "      <td>0</td>\n",
       "      <td>0</td>\n",
       "    </tr>\n",
       "    <tr>\n",
       "      <th>Hornet Sportabout</th>\n",
       "      <td>18.7</td>\n",
       "      <td>360.0</td>\n",
       "      <td>175</td>\n",
       "      <td>3.15</td>\n",
       "      <td>3.440</td>\n",
       "      <td>17.02</td>\n",
       "      <td>0</td>\n",
       "      <td>0</td>\n",
       "      <td>1</td>\n",
       "      <td>1</td>\n",
       "      <td>0</td>\n",
       "      <td>1</td>\n",
       "      <td>0</td>\n",
       "      <td>1</td>\n",
       "      <td>0</td>\n",
       "      <td>0</td>\n",
       "      <td>0</td>\n",
       "      <td>1</td>\n",
       "      <td>0</td>\n",
       "      <td>0</td>\n",
       "      <td>0</td>\n",
       "      <td>0</td>\n",
       "    </tr>\n",
       "  </tbody>\n",
       "</table>\n",
       "</div>"
      ],
      "text/plain": [
       "                    mpg   disp   hp  drat     wt   qsec  cyl_4  cyl_6  cyl_8  \\\n",
       "model                                                                          \n",
       "Mazda RX4          21.0  160.0  110  3.90  2.620  16.46      0      1      0   \n",
       "Mazda RX4 Wag      21.0  160.0  110  3.90  2.875  17.02      0      1      0   \n",
       "Datsun 710         22.8  108.0   93  3.85  2.320  18.61      1      0      0   \n",
       "Hornet 4 Drive     21.4  258.0  110  3.08  3.215  19.44      0      1      0   \n",
       "Hornet Sportabout  18.7  360.0  175  3.15  3.440  17.02      0      0      1   \n",
       "\n",
       "                   vs_0  vs_1  am_0  am_1  gear_3  gear_4  gear_5  carb_1  \\\n",
       "model                                                                       \n",
       "Mazda RX4             1     0     0     1       0       1       0       0   \n",
       "Mazda RX4 Wag         1     0     0     1       0       1       0       0   \n",
       "Datsun 710            0     1     0     1       0       1       0       1   \n",
       "Hornet 4 Drive        0     1     1     0       1       0       0       1   \n",
       "Hornet Sportabout     1     0     1     0       1       0       0       0   \n",
       "\n",
       "                   carb_2  carb_3  carb_4  carb_6  carb_8  \n",
       "model                                                      \n",
       "Mazda RX4               0       0       1       0       0  \n",
       "Mazda RX4 Wag           0       0       1       0       0  \n",
       "Datsun 710              0       0       0       0       0  \n",
       "Hornet 4 Drive          0       0       0       0       0  \n",
       "Hornet Sportabout       1       0       0       0       0  "
      ]
     },
     "execution_count": 32,
     "metadata": {},
     "output_type": "execute_result"
    }
   ],
   "source": [
    "pd.set_option('display.max_columns', None)\n",
    "col=['cyl','vs','am','gear','carb']\n",
    "df_final=pd.get_dummies(data=df,columns=col)\n",
    "df_final.head()"
   ]
  },
  {
   "cell_type": "code",
   "execution_count": 33,
   "metadata": {},
   "outputs": [],
   "source": [
    "x=df_final.drop('mpg',axis=1)\n",
    "y=df_final['mpg']"
   ]
  },
  {
   "cell_type": "code",
   "execution_count": 34,
   "metadata": {},
   "outputs": [
    {
     "name": "stdout",
     "output_type": "stream",
     "text": [
      "Coefficients: [ 0.03554632 -0.07050683  1.18283018 -4.52977584  0.36784482  0.99495275\n",
      " -1.65374252  0.65878977 -0.96542527  0.96542527 -0.60605785  0.60605785\n",
      " -1.21425031 -0.09989537  1.31414568 -2.4732813  -3.45263562  0.52635745\n",
      " -1.38185841  2.00428791  4.77712996]\n",
      "Intercept: 28.143194414685496\n",
      "R^2 score: 0.8930749320864843\n"
     ]
    }
   ],
   "source": [
    "LR=LinearRegression()\n",
    "LR.fit(x,y)\n",
    "print(f'Coefficients: {LR.coef_}')\n",
    "print(f'Intercept: {LR.intercept_}')\n",
    "print(f'R^2 score: {LR.score(x, y)}')"
   ]
  },
  {
   "cell_type": "markdown",
   "metadata": {},
   "source": [
    "#### Check if it is over fitting or underfitting\n",
    "If R_square of train>R_square of test= overfitting\n",
    "\n",
    "If R_square of train<R_square of test= underfitting"
   ]
  },
  {
   "cell_type": "code",
   "execution_count": 35,
   "metadata": {},
   "outputs": [
    {
     "name": "stdout",
     "output_type": "stream",
     "text": [
      "(22, 21)\n",
      "(10, 21)\n",
      "(22,)\n",
      "(10,)\n"
     ]
    }
   ],
   "source": [
    "x_train,x_test,y_train,y_test=train_test_split(x,y,train_size=0.7,test_size=0.3,random_state=1)\n",
    "print(x_train.shape)\n",
    "print(x_test.shape)\n",
    "print(y_train.shape)\n",
    "print(y_test.shape)"
   ]
  },
  {
   "cell_type": "code",
   "execution_count": 36,
   "metadata": {},
   "outputs": [
    {
     "name": "stdout",
     "output_type": "stream",
     "text": [
      "R^2 score for train: 0.9577712483239683\n",
      "R^2 score for test: 0.3517070776847987\n"
     ]
    }
   ],
   "source": [
    "LR=LinearRegression()\n",
    "LR.fit(x_train,y_train)\n",
    "print(f'R^2 score for train: {LR.score(x_train, y_train)}')\n",
    "y_pred=LR.predict(x_test)\n",
    "LR.fit(x_test,y_pred)\n",
    "print(f'R^2 score for test: {LR.score(x_train, y_train)}')"
   ]
  },
  {
   "cell_type": "markdown",
   "metadata": {},
   "source": [
    "#### Since R_square of train>R_square of test= overfitting"
   ]
  },
  {
   "cell_type": "code",
   "execution_count": 37,
   "metadata": {},
   "outputs": [
    {
     "data": {
      "text/html": [
       "<table class=\"simpletable\">\n",
       "<caption>OLS Regression Results</caption>\n",
       "<tr>\n",
       "  <th>Dep. Variable:</th>           <td>mpg</td>       <th>  R-squared:         </th> <td>   0.893</td>\n",
       "</tr>\n",
       "<tr>\n",
       "  <th>Model:</th>                   <td>OLS</td>       <th>  Adj. R-squared:    </th> <td>   0.779</td>\n",
       "</tr>\n",
       "<tr>\n",
       "  <th>Method:</th>             <td>Least Squares</td>  <th>  F-statistic:       </th> <td>   7.830</td>\n",
       "</tr>\n",
       "<tr>\n",
       "  <th>Date:</th>             <td>Sun, 17 Nov 2019</td> <th>  Prob (F-statistic):</th> <td>0.000124</td>\n",
       "</tr>\n",
       "<tr>\n",
       "  <th>Time:</th>                 <td>19:00:15</td>     <th>  Log-Likelihood:    </th> <td> -66.608</td>\n",
       "</tr>\n",
       "<tr>\n",
       "  <th>No. Observations:</th>      <td>    32</td>      <th>  AIC:               </th> <td>   167.2</td>\n",
       "</tr>\n",
       "<tr>\n",
       "  <th>Df Residuals:</th>          <td>    15</td>      <th>  BIC:               </th> <td>   192.1</td>\n",
       "</tr>\n",
       "<tr>\n",
       "  <th>Df Model:</th>              <td>    16</td>      <th>                     </th>     <td> </td>   \n",
       "</tr>\n",
       "<tr>\n",
       "  <th>Covariance Type:</th>      <td>nonrobust</td>    <th>                     </th>     <td> </td>   \n",
       "</tr>\n",
       "</table>\n",
       "<table class=\"simpletable\">\n",
       "<tr>\n",
       "     <td></td>       <th>coef</th>     <th>std err</th>      <th>t</th>      <th>P>|t|</th>  <th>[0.025</th>    <th>0.975]</th>  \n",
       "</tr>\n",
       "<tr>\n",
       "  <th>const</th>  <td>    9.9329</td> <td>    6.738</td> <td>    1.474</td> <td> 0.161</td> <td>   -4.429</td> <td>   24.295</td>\n",
       "</tr>\n",
       "<tr>\n",
       "  <th>disp</th>   <td>    0.0355</td> <td>    0.032</td> <td>    1.114</td> <td> 0.283</td> <td>   -0.032</td> <td>    0.104</td>\n",
       "</tr>\n",
       "<tr>\n",
       "  <th>hp</th>     <td>   -0.0705</td> <td>    0.039</td> <td>   -1.788</td> <td> 0.094</td> <td>   -0.155</td> <td>    0.014</td>\n",
       "</tr>\n",
       "<tr>\n",
       "  <th>drat</th>   <td>    1.1828</td> <td>    2.483</td> <td>    0.476</td> <td> 0.641</td> <td>   -4.111</td> <td>    6.476</td>\n",
       "</tr>\n",
       "<tr>\n",
       "  <th>wt</th>     <td>   -4.5298</td> <td>    2.539</td> <td>   -1.784</td> <td> 0.095</td> <td>   -9.941</td> <td>    0.881</td>\n",
       "</tr>\n",
       "<tr>\n",
       "  <th>qsec</th>   <td>    0.3678</td> <td>    0.935</td> <td>    0.393</td> <td> 0.700</td> <td>   -1.626</td> <td>    2.362</td>\n",
       "</tr>\n",
       "<tr>\n",
       "  <th>cyl_4</th>  <td>    4.3059</td> <td>    4.492</td> <td>    0.959</td> <td> 0.353</td> <td>   -5.268</td> <td>   13.880</td>\n",
       "</tr>\n",
       "<tr>\n",
       "  <th>cyl_6</th>  <td>    1.6572</td> <td>    2.396</td> <td>    0.692</td> <td> 0.500</td> <td>   -3.449</td> <td>    6.763</td>\n",
       "</tr>\n",
       "<tr>\n",
       "  <th>cyl_8</th>  <td>    3.9698</td> <td>    4.412</td> <td>    0.900</td> <td> 0.383</td> <td>   -5.435</td> <td>   13.375</td>\n",
       "</tr>\n",
       "<tr>\n",
       "  <th>vs_0</th>   <td>    4.0010</td> <td>    3.374</td> <td>    1.186</td> <td> 0.254</td> <td>   -3.191</td> <td>   11.193</td>\n",
       "</tr>\n",
       "<tr>\n",
       "  <th>vs_1</th>   <td>    5.9319</td> <td>    3.929</td> <td>    1.510</td> <td> 0.152</td> <td>   -2.443</td> <td>   14.307</td>\n",
       "</tr>\n",
       "<tr>\n",
       "  <th>am_0</th>   <td>    4.3604</td> <td>    4.248</td> <td>    1.026</td> <td> 0.321</td> <td>   -4.694</td> <td>   13.414</td>\n",
       "</tr>\n",
       "<tr>\n",
       "  <th>am_1</th>   <td>    5.5725</td> <td>    3.134</td> <td>    1.778</td> <td> 0.096</td> <td>   -1.107</td> <td>   12.252</td>\n",
       "</tr>\n",
       "<tr>\n",
       "  <th>gear_3</th> <td>    2.0967</td> <td>    2.759</td> <td>    0.760</td> <td> 0.459</td> <td>   -3.785</td> <td>    7.978</td>\n",
       "</tr>\n",
       "<tr>\n",
       "  <th>gear_4</th> <td>    3.2111</td> <td>    3.376</td> <td>    0.951</td> <td> 0.357</td> <td>   -3.984</td> <td>   10.406</td>\n",
       "</tr>\n",
       "<tr>\n",
       "  <th>gear_5</th> <td>    4.6251</td> <td>    2.985</td> <td>    1.550</td> <td> 0.142</td> <td>   -1.736</td> <td>   10.987</td>\n",
       "</tr>\n",
       "<tr>\n",
       "  <th>carb_1</th> <td>   -0.8178</td> <td>    3.615</td> <td>   -0.226</td> <td> 0.824</td> <td>   -8.522</td> <td>    6.887</td>\n",
       "</tr>\n",
       "<tr>\n",
       "  <th>carb_2</th> <td>   -1.7972</td> <td>    2.812</td> <td>   -0.639</td> <td> 0.532</td> <td>   -7.790</td> <td>    4.196</td>\n",
       "</tr>\n",
       "<tr>\n",
       "  <th>carb_3</th> <td>    2.1818</td> <td>    3.042</td> <td>    0.717</td> <td> 0.484</td> <td>   -4.302</td> <td>    8.665</td>\n",
       "</tr>\n",
       "<tr>\n",
       "  <th>carb_4</th> <td>    0.2736</td> <td>    2.331</td> <td>    0.117</td> <td> 0.908</td> <td>   -4.695</td> <td>    5.243</td>\n",
       "</tr>\n",
       "<tr>\n",
       "  <th>carb_6</th> <td>    3.6598</td> <td>    3.791</td> <td>    0.965</td> <td> 0.350</td> <td>   -4.421</td> <td>   11.740</td>\n",
       "</tr>\n",
       "<tr>\n",
       "  <th>carb_8</th> <td>    6.4326</td> <td>    5.632</td> <td>    1.142</td> <td> 0.271</td> <td>   -5.571</td> <td>   18.436</td>\n",
       "</tr>\n",
       "</table>\n",
       "<table class=\"simpletable\">\n",
       "<tr>\n",
       "  <th>Omnibus:</th>       <td> 2.468</td> <th>  Durbin-Watson:     </th> <td>   2.105</td>\n",
       "</tr>\n",
       "<tr>\n",
       "  <th>Prob(Omnibus):</th> <td> 0.291</td> <th>  Jarque-Bera (JB):  </th> <td>   1.772</td>\n",
       "</tr>\n",
       "<tr>\n",
       "  <th>Skew:</th>          <td> 0.576</td> <th>  Prob(JB):          </th> <td>   0.412</td>\n",
       "</tr>\n",
       "<tr>\n",
       "  <th>Kurtosis:</th>      <td> 3.009</td> <th>  Cond. No.          </th> <td>1.11e+19</td>\n",
       "</tr>\n",
       "</table><br/><br/>Warnings:<br/>[1] Standard Errors assume that the covariance matrix of the errors is correctly specified.<br/>[2] The smallest eigenvalue is 2.41e-32. This might indicate that there are<br/>strong multicollinearity problems or that the design matrix is singular."
      ],
      "text/plain": [
       "<class 'statsmodels.iolib.summary.Summary'>\n",
       "\"\"\"\n",
       "                            OLS Regression Results                            \n",
       "==============================================================================\n",
       "Dep. Variable:                    mpg   R-squared:                       0.893\n",
       "Model:                            OLS   Adj. R-squared:                  0.779\n",
       "Method:                 Least Squares   F-statistic:                     7.830\n",
       "Date:                Sun, 17 Nov 2019   Prob (F-statistic):           0.000124\n",
       "Time:                        19:00:15   Log-Likelihood:                -66.608\n",
       "No. Observations:                  32   AIC:                             167.2\n",
       "Df Residuals:                      15   BIC:                             192.1\n",
       "Df Model:                          16                                         \n",
       "Covariance Type:            nonrobust                                         \n",
       "==============================================================================\n",
       "                 coef    std err          t      P>|t|      [0.025      0.975]\n",
       "------------------------------------------------------------------------------\n",
       "const          9.9329      6.738      1.474      0.161      -4.429      24.295\n",
       "disp           0.0355      0.032      1.114      0.283      -0.032       0.104\n",
       "hp            -0.0705      0.039     -1.788      0.094      -0.155       0.014\n",
       "drat           1.1828      2.483      0.476      0.641      -4.111       6.476\n",
       "wt            -4.5298      2.539     -1.784      0.095      -9.941       0.881\n",
       "qsec           0.3678      0.935      0.393      0.700      -1.626       2.362\n",
       "cyl_4          4.3059      4.492      0.959      0.353      -5.268      13.880\n",
       "cyl_6          1.6572      2.396      0.692      0.500      -3.449       6.763\n",
       "cyl_8          3.9698      4.412      0.900      0.383      -5.435      13.375\n",
       "vs_0           4.0010      3.374      1.186      0.254      -3.191      11.193\n",
       "vs_1           5.9319      3.929      1.510      0.152      -2.443      14.307\n",
       "am_0           4.3604      4.248      1.026      0.321      -4.694      13.414\n",
       "am_1           5.5725      3.134      1.778      0.096      -1.107      12.252\n",
       "gear_3         2.0967      2.759      0.760      0.459      -3.785       7.978\n",
       "gear_4         3.2111      3.376      0.951      0.357      -3.984      10.406\n",
       "gear_5         4.6251      2.985      1.550      0.142      -1.736      10.987\n",
       "carb_1        -0.8178      3.615     -0.226      0.824      -8.522       6.887\n",
       "carb_2        -1.7972      2.812     -0.639      0.532      -7.790       4.196\n",
       "carb_3         2.1818      3.042      0.717      0.484      -4.302       8.665\n",
       "carb_4         0.2736      2.331      0.117      0.908      -4.695       5.243\n",
       "carb_6         3.6598      3.791      0.965      0.350      -4.421      11.740\n",
       "carb_8         6.4326      5.632      1.142      0.271      -5.571      18.436\n",
       "==============================================================================\n",
       "Omnibus:                        2.468   Durbin-Watson:                   2.105\n",
       "Prob(Omnibus):                  0.291   Jarque-Bera (JB):                1.772\n",
       "Skew:                           0.576   Prob(JB):                        0.412\n",
       "Kurtosis:                       3.009   Cond. No.                     1.11e+19\n",
       "==============================================================================\n",
       "\n",
       "Warnings:\n",
       "[1] Standard Errors assume that the covariance matrix of the errors is correctly specified.\n",
       "[2] The smallest eigenvalue is 2.41e-32. This might indicate that there are\n",
       "strong multicollinearity problems or that the design matrix is singular.\n",
       "\"\"\""
      ]
     },
     "execution_count": 37,
     "metadata": {},
     "output_type": "execute_result"
    }
   ],
   "source": [
    "x_const=sm.add_constant(x)\n",
    "model=sm.OLS(y,x_const).fit()\n",
    "pred=model.predict(x_const)\n",
    "model.summary()"
   ]
  },
  {
   "cell_type": "markdown",
   "metadata": {},
   "source": [
    "## Assumpotions: 5"
   ]
  },
  {
   "cell_type": "markdown",
   "metadata": {},
   "source": [
    "##### 1) Autocorrelation:  Durbin- Watson Test\n",
    "\n",
    "No Auto correlation.\n",
    "\n",
    "\n",
    "Test needed : Durbin- Watson Test.\n",
    "\n",
    "    It's value ranges from 0-4. If the value of Durbin- Watson is Between 0-2, it's known as Positive Autocorrelation.          \n",
    "    If the value ranges from 2-4, it is known as Negative autocorrelation.                                                      \n",
    "    If the value is exactly 2, it means No Autocorrelation.\n",
    "For a good linear model, it should have low or no autocorrelation.\n",
    "\n",
    "##### we can see here the values of dublin watson test (test for normality):  1.861 (POSITIVE AUTO-CORRELATION , Very close to 2)\n",
    "    \n",
    "##### From the graph below, we can easily see that there is Positive autocorrelation."
   ]
  },
  {
   "cell_type": "code",
   "execution_count": 64,
   "metadata": {},
   "outputs": [
    {
     "data": {
      "image/png": "[encoded data removed]",
      "text/plain": [
       "<Figure size 842.4x595.44 with 1 Axes>"
      ]
     },
     "metadata": {},
     "output_type": "display_data"
    }
   ],
   "source": [
    "import statsmodels.tsa.api as smt\n",
    "acf=smt.graphics.plot_acf(model.resid,lags=31,alpha=0.5)\n",
    "acf.show()"
   ]
  },
  {
   "cell_type": "markdown",
   "metadata": {},
   "source": [
    "#### 2) Normality of Residuals:Jarque Bera test\n",
    "\n",
    "The second assumption is the Normality of Residuals. \n",
    "For this we prefer the Jarque Bera test. For a good model, the residuals should be normally distributed.\n",
    "The higher the value of Jarque Bera test , the lesser the residuals are normally distributed.\n",
    "We generally prefer a lower value of jarque bera test.\n",
    "\n",
    "The Jarque–Bera test is a goodness-of-fit test of whether sample data \n",
    "have the skewness and kurtosis matching a normal distribution.\n",
    "And jarque-bera test (test for normality) : 1.747\n",
    "    \n",
    "The jarque bera test tests whether the sample data has the skewness and kurtosis matching a normal distribution.\n",
    "Note that this test generally works good for large enough number of data samples(>2000) as the test statistics asymptotically has a chi squared distribution with degrees 2 of freedom.\n"
   ]
  },
  {
   "cell_type": "code",
   "execution_count": 67,
   "metadata": {},
   "outputs": [
    {
     "name": "stdout",
     "output_type": "stream",
     "text": [
      "(1.7466576018548141, 0.4175592615519029)\n"
     ]
    }
   ],
   "source": [
    "print(stats.jarque_bera(model.resid))"
   ]
  },
  {
   "cell_type": "raw",
   "metadata": {},
   "source": [
    "The Jarque Bera test shows the JB value and the p-value for the hypothesis testing.\n",
    "As, we can see from the second warning of OLS model itself that Multicollinearity is present in the dataset.\n",
    "It can also be stated by noting the high conditional number."
   ]
  },
  {
   "cell_type": "markdown",
   "metadata": {},
   "source": [
    "#### 3) Linearity of residuals: Rainbow test,plot the observed values Vs predicted values and plot the Residual Vs predicted values\n",
    "\n",
    "Either we can plot the observed values Vs predicted values and plot the Residual Vs predicted values and see the linearity of residuals. OR We can go for rainbow test. Let's look both of them one by one"
   ]
  },
  {
   "cell_type": "code",
   "execution_count": 68,
   "metadata": {},
   "outputs": [
    {
     "data": {
      "text/plain": [
       "(3.8577111479531574, 0.0711971203895364)"
      ]
     },
     "execution_count": 68,
     "metadata": {},
     "output_type": "execute_result"
    }
   ],
   "source": [
    "import statsmodels.api as sm\n",
    "sm.stats.diagnostic.linear_rainbow(res=model,frac=0.5)"
   ]
  },
  {
   "cell_type": "code",
   "execution_count": 69,
   "metadata": {},
   "outputs": [],
   "source": [
    "import scipy.stats as stats\n",
    "import pylab\n",
    "from statsmodels.graphics.gofplots import ProbPlot"
   ]
  },
  {
   "cell_type": "code",
   "execution_count": 72,
   "metadata": {},
   "outputs": [
    {
     "data": {
      "image/png": "[encoded data removed]",
      "text/plain": [
       "<Figure size 842.4x595.44 with 1 Axes>"
      ]
     },
     "metadata": {},
     "output_type": "display_data"
    }
   ],
   "source": [
    "st_residual=model.get_influence().resid_studentized_internal\n",
    "stats.probplot(st_residual,dist='norm',plot=pylab)\n",
    "plt.show()"
   ]
  },
  {
   "cell_type": "markdown",
   "metadata": {},
   "source": [
    "#### If mean value of model residue is zero we can consider that as presence of linearity"
   ]
  },
  {
   "cell_type": "code",
   "execution_count": 73,
   "metadata": {},
   "outputs": [
    {
     "data": {
      "text/plain": [
       "2.0128343436454088e-13"
      ]
     },
     "execution_count": 73,
     "metadata": {},
     "output_type": "execute_result"
    }
   ],
   "source": [
    "model.resid.mean()"
   ]
  },
  {
   "cell_type": "markdown",
   "metadata": {},
   "source": [
    "#####  Since mean is close to zero linearity is present"
   ]
  },
  {
   "cell_type": "markdown",
   "metadata": {},
   "source": [
    "#### 4) Homoscedasticity_test(using goldfeld test) OR (Beusch-Wagon Test)¶\n",
    "Homoscedacity :: If the residuals are symmetrically distributed across the trend , then it is called as homoscedacious. Heteroscedacity :: If the residuals are not symmetric across the trend, then it is called as heteroscedacious. In this the residuals can form an arrow shape or any other non symmetrical shape."
   ]
  },
  {
   "cell_type": "raw",
   "metadata": {},
   "source": [
    "This test is based on the hytpothesis testing where null and alternate hypothesis are:\n",
    "H0 = constant variance among residuals. (Homoscedacity)\n",
    "Ha = Heteroscedacity.\n",
    "\n",
    "The residuals should be homoscedacious."
   ]
  },
  {
   "cell_type": "code",
   "execution_count": 76,
   "metadata": {},
   "outputs": [
    {
     "name": "stdout",
     "output_type": "stream",
     "text": [
      "['F statistic', 'p-value'] (28.863993040889845, 0.0010748981447214767, 'increasing')\n"
     ]
    }
   ],
   "source": [
    "import statsmodels.stats.api as sms\n",
    "name = ['F statistic', 'p-value']\n",
    "test = sms.het_goldfeldquandt(model.resid, model.model.exog)\n",
    "print(name, test)"
   ]
  },
  {
   "cell_type": "raw",
   "metadata": {},
   "source": [
    "Null hypothesis assumes homoscedasticity and a p-value below a certain level (like 0.05) indicates we should reject the null in favor of heteroscedasticity.\n",
    "\n",
    "Here, p value is less than 0.05 so, it is homoscedasticity distribution.\n",
    "H0 = constant variance (Homoscedacity)\n",
    "Ha = Heteroscedacity"
   ]
  },
  {
   "cell_type": "markdown",
   "metadata": {},
   "source": [
    "#### 5) MULTI COLLINEARITY : VIF(redundency will increase so is noice)\n",
    "\n",
    "The interpretation of VIF is as follows: the square root of a given variable’s VIF shows how much larger the standard error is,\n",
    "compared with what it would be if that predictor were uncorrelated with the other features in the model.\n",
    "If no features are correlated, then all values for VIF will be 1."
   ]
  },
  {
   "cell_type": "code",
   "execution_count": 79,
   "metadata": {},
   "outputs": [
    {
     "data": {
      "text/html": [
       "<div>\n",
       "<style scoped>\n",
       "    .dataframe tbody tr th:only-of-type {\n",
       "        vertical-align: middle;\n",
       "    }\n",
       "\n",
       "    .dataframe tbody tr th {\n",
       "        vertical-align: top;\n",
       "    }\n",
       "\n",
       "    .dataframe thead th {\n",
       "        text-align: right;\n",
       "    }\n",
       "</style>\n",
       "<table border=\"1\" class=\"dataframe\">\n",
       "  <thead>\n",
       "    <tr style=\"text-align: right;\">\n",
       "      <th></th>\n",
       "      <th>cyl</th>\n",
       "      <th>disp</th>\n",
       "      <th>hp</th>\n",
       "      <th>drat</th>\n",
       "      <th>wt</th>\n",
       "      <th>qsec</th>\n",
       "      <th>vs</th>\n",
       "      <th>am</th>\n",
       "      <th>gear</th>\n",
       "      <th>carb</th>\n",
       "    </tr>\n",
       "  </thead>\n",
       "  <tbody>\n",
       "    <tr>\n",
       "      <th>vif</th>\n",
       "      <td>15.373833</td>\n",
       "      <td>21.620241</td>\n",
       "      <td>9.832037</td>\n",
       "      <td>3.37462</td>\n",
       "      <td>15.164887</td>\n",
       "      <td>7.527958</td>\n",
       "      <td>4.965873</td>\n",
       "      <td>4.648487</td>\n",
       "      <td>5.357452</td>\n",
       "      <td>7.908747</td>\n",
       "    </tr>\n",
       "  </tbody>\n",
       "</table>\n",
       "</div>"
      ],
      "text/plain": [
       "           cyl       disp        hp     drat         wt      qsec        vs  \\\n",
       "vif  15.373833  21.620241  9.832037  3.37462  15.164887  7.527958  4.965873   \n",
       "\n",
       "           am      gear      carb  \n",
       "vif  4.648487  5.357452  7.908747  "
      ]
     },
     "execution_count": 79,
     "metadata": {},
     "output_type": "execute_result"
    }
   ],
   "source": [
    "from statsmodels.stats.outliers_influence import variance_inflation_factor\n",
    "vif=[variance_inflation_factor(x_const.values,i) for i in range(x_const.shape[1])]\n",
    "pd.DataFrame({'vif': vif[1:]}, index=x.columns).T"
   ]
  },
  {
   "cell_type": "markdown",
   "metadata": {},
   "source": [
    "####  There is multicollinearity"
   ]
  },
  {
   "cell_type": "markdown",
   "metadata": {},
   "source": [
    "#### Feature Selection"
   ]
  },
  {
   "cell_type": "code",
   "execution_count": 80,
   "metadata": {},
   "outputs": [
    {
     "name": "stdout",
     "output_type": "stream",
     "text": [
      "['wt', 'qsec', 'am']\n"
     ]
    }
   ],
   "source": [
    "## Backward Elimination\n",
    "cols=list(x.columns)\n",
    "pmax=1\n",
    "while(len(cols)>0):\n",
    "    p=[]\n",
    "    X=x[cols]\n",
    "    xc=sm.add_constant(X)\n",
    "    model=sm.OLS(y,xc).fit()\n",
    "    p=pd.Series(model.pvalues.values[1:],index=cols)\n",
    "    pmax=max(p)\n",
    "    feature_width_p_max=p.idxmax()\n",
    "    if(pmax>0.05):\n",
    "        cols.remove(feature_width_p_max)\n",
    "    else:\n",
    "        break\n",
    "selected_features_BE=cols\n",
    "print(selected_features_BE)"
   ]
  },
  {
   "cell_type": "code",
   "execution_count": 86,
   "metadata": {},
   "outputs": [
    {
     "data": {
      "text/html": [
       "<table class=\"simpletable\">\n",
       "<caption>OLS Regression Results</caption>\n",
       "<tr>\n",
       "  <th>Dep. Variable:</th>           <td>mpg</td>       <th>  R-squared:         </th> <td>   0.850</td>\n",
       "</tr>\n",
       "<tr>\n",
       "  <th>Model:</th>                   <td>OLS</td>       <th>  Adj. R-squared:    </th> <td>   0.834</td>\n",
       "</tr>\n",
       "<tr>\n",
       "  <th>Method:</th>             <td>Least Squares</td>  <th>  F-statistic:       </th> <td>   52.75</td>\n",
       "</tr>\n",
       "<tr>\n",
       "  <th>Date:</th>             <td>Thu, 03 Oct 2019</td> <th>  Prob (F-statistic):</th> <td>1.21e-11</td>\n",
       "</tr>\n",
       "<tr>\n",
       "  <th>Time:</th>                 <td>16:44:08</td>     <th>  Log-Likelihood:    </th> <td> -72.060</td>\n",
       "</tr>\n",
       "<tr>\n",
       "  <th>No. Observations:</th>      <td>    32</td>      <th>  AIC:               </th> <td>   152.1</td>\n",
       "</tr>\n",
       "<tr>\n",
       "  <th>Df Residuals:</th>          <td>    28</td>      <th>  BIC:               </th> <td>   158.0</td>\n",
       "</tr>\n",
       "<tr>\n",
       "  <th>Df Model:</th>              <td>     3</td>      <th>                     </th>     <td> </td>   \n",
       "</tr>\n",
       "<tr>\n",
       "  <th>Covariance Type:</th>      <td>nonrobust</td>    <th>                     </th>     <td> </td>   \n",
       "</tr>\n",
       "</table>\n",
       "<table class=\"simpletable\">\n",
       "<tr>\n",
       "    <td></td>       <th>coef</th>     <th>std err</th>      <th>t</th>      <th>P>|t|</th>  <th>[0.025</th>    <th>0.975]</th>  \n",
       "</tr>\n",
       "<tr>\n",
       "  <th>const</th> <td>    9.6178</td> <td>    6.960</td> <td>    1.382</td> <td> 0.178</td> <td>   -4.638</td> <td>   23.874</td>\n",
       "</tr>\n",
       "<tr>\n",
       "  <th>wt</th>    <td>   -3.9165</td> <td>    0.711</td> <td>   -5.507</td> <td> 0.000</td> <td>   -5.373</td> <td>   -2.460</td>\n",
       "</tr>\n",
       "<tr>\n",
       "  <th>qsec</th>  <td>    1.2259</td> <td>    0.289</td> <td>    4.247</td> <td> 0.000</td> <td>    0.635</td> <td>    1.817</td>\n",
       "</tr>\n",
       "<tr>\n",
       "  <th>am</th>    <td>    2.9358</td> <td>    1.411</td> <td>    2.081</td> <td> 0.047</td> <td>    0.046</td> <td>    5.826</td>\n",
       "</tr>\n",
       "</table>\n",
       "<table class=\"simpletable\">\n",
       "<tr>\n",
       "  <th>Omnibus:</th>       <td> 2.574</td> <th>  Durbin-Watson:     </th> <td>   1.714</td>\n",
       "</tr>\n",
       "<tr>\n",
       "  <th>Prob(Omnibus):</th> <td> 0.276</td> <th>  Jarque-Bera (JB):  </th> <td>   2.213</td>\n",
       "</tr>\n",
       "<tr>\n",
       "  <th>Skew:</th>          <td> 0.540</td> <th>  Prob(JB):          </th> <td>   0.331</td>\n",
       "</tr>\n",
       "<tr>\n",
       "  <th>Kurtosis:</th>      <td> 2.297</td> <th>  Cond. No.          </th> <td>    296.</td>\n",
       "</tr>\n",
       "</table><br/><br/>Warnings:<br/>[1] Standard Errors assume that the covariance matrix of the errors is correctly specified."
      ],
      "text/plain": [
       "<class 'statsmodels.iolib.summary.Summary'>\n",
       "\"\"\"\n",
       "                            OLS Regression Results                            \n",
       "==============================================================================\n",
       "Dep. Variable:                    mpg   R-squared:                       0.850\n",
       "Model:                            OLS   Adj. R-squared:                  0.834\n",
       "Method:                 Least Squares   F-statistic:                     52.75\n",
       "Date:                Thu, 03 Oct 2019   Prob (F-statistic):           1.21e-11\n",
       "Time:                        16:44:08   Log-Likelihood:                -72.060\n",
       "No. Observations:                  32   AIC:                             152.1\n",
       "Df Residuals:                      28   BIC:                             158.0\n",
       "Df Model:                           3                                         \n",
       "Covariance Type:            nonrobust                                         \n",
       "==============================================================================\n",
       "                 coef    std err          t      P>|t|      [0.025      0.975]\n",
       "------------------------------------------------------------------------------\n",
       "const          9.6178      6.960      1.382      0.178      -4.638      23.874\n",
       "wt            -3.9165      0.711     -5.507      0.000      -5.373      -2.460\n",
       "qsec           1.2259      0.289      4.247      0.000       0.635       1.817\n",
       "am             2.9358      1.411      2.081      0.047       0.046       5.826\n",
       "==============================================================================\n",
       "Omnibus:                        2.574   Durbin-Watson:                   1.714\n",
       "Prob(Omnibus):                  0.276   Jarque-Bera (JB):                2.213\n",
       "Skew:                           0.540   Prob(JB):                        0.331\n",
       "Kurtosis:                       2.297   Cond. No.                         296.\n",
       "==============================================================================\n",
       "\n",
       "Warnings:\n",
       "[1] Standard Errors assume that the covariance matrix of the errors is correctly specified.\n",
       "\"\"\""
      ]
     },
     "execution_count": 86,
     "metadata": {},
     "output_type": "execute_result"
    }
   ],
   "source": [
    "x=df[['wt','qsec','am']]\n",
    "y=df['mpg']\n",
    "xc=sm.add_constant(x)\n",
    "df_model=sm.OLS(y,xc).fit()\n",
    "df_model.summary()"
   ]
  },
  {
   "cell_type": "code",
   "execution_count": 88,
   "metadata": {},
   "outputs": [
    {
     "name": "stdout",
     "output_type": "stream",
     "text": [
      "_____________________OR_____________________\n"
     ]
    }
   ],
   "source": [
    "print('_____________________OR_____________________')"
   ]
  },
  {
   "cell_type": "code",
   "execution_count": 82,
   "metadata": {},
   "outputs": [
    {
     "name": "stdout",
     "output_type": "stream",
     "text": [
      "[False False False False  True  True False  True False False]\n",
      "[6 8 7 2 1 1 5 1 4 3]\n"
     ]
    }
   ],
   "source": [
    "## RFE- Recursive Feature Elimination          \n",
    "from sklearn.feature_selection import RFE\n",
    "model=LinearRegression()\n",
    "\n",
    "rfe=RFE(model,len(cols))    \n",
    "X_rfe=rfe.fit_transform(x,y)\n",
    "model.fit(X_rfe,y)\n",
    "print(rfe.support_)\n",
    "print(rfe.ranking_)"
   ]
  },
  {
   "cell_type": "code",
   "execution_count": 83,
   "metadata": {},
   "outputs": [
    {
     "data": {
      "text/plain": [
       "Index(['mpg', 'cyl', 'disp', 'hp', 'drat', 'wt', 'qsec', 'vs', 'am', 'gear',\n",
       "       'carb'],\n",
       "      dtype='object')"
      ]
     },
     "execution_count": 83,
     "metadata": {},
     "output_type": "execute_result"
    }
   ],
   "source": [
    "df.columns"
   ]
  },
  {
   "cell_type": "code",
   "execution_count": 89,
   "metadata": {},
   "outputs": [
    {
     "data": {
      "text/html": [
       "<div>\n",
       "<style scoped>\n",
       "    .dataframe tbody tr th:only-of-type {\n",
       "        vertical-align: middle;\n",
       "    }\n",
       "\n",
       "    .dataframe tbody tr th {\n",
       "        vertical-align: top;\n",
       "    }\n",
       "\n",
       "    .dataframe thead th {\n",
       "        text-align: right;\n",
       "    }\n",
       "</style>\n",
       "<table border=\"1\" class=\"dataframe\">\n",
       "  <thead>\n",
       "    <tr style=\"text-align: right;\">\n",
       "      <th></th>\n",
       "      <th>wt</th>\n",
       "      <th>qsec</th>\n",
       "      <th>am</th>\n",
       "    </tr>\n",
       "  </thead>\n",
       "  <tbody>\n",
       "    <tr>\n",
       "      <th>0</th>\n",
       "      <td>2.620</td>\n",
       "      <td>16.46</td>\n",
       "      <td>1.0</td>\n",
       "    </tr>\n",
       "    <tr>\n",
       "      <th>1</th>\n",
       "      <td>2.875</td>\n",
       "      <td>17.02</td>\n",
       "      <td>1.0</td>\n",
       "    </tr>\n",
       "    <tr>\n",
       "      <th>2</th>\n",
       "      <td>2.320</td>\n",
       "      <td>18.61</td>\n",
       "      <td>1.0</td>\n",
       "    </tr>\n",
       "    <tr>\n",
       "      <th>3</th>\n",
       "      <td>3.215</td>\n",
       "      <td>19.44</td>\n",
       "      <td>0.0</td>\n",
       "    </tr>\n",
       "    <tr>\n",
       "      <th>4</th>\n",
       "      <td>3.440</td>\n",
       "      <td>17.02</td>\n",
       "      <td>0.0</td>\n",
       "    </tr>\n",
       "  </tbody>\n",
       "</table>\n",
       "</div>"
      ],
      "text/plain": [
       "      wt   qsec   am\n",
       "0  2.620  16.46  1.0\n",
       "1  2.875  17.02  1.0\n",
       "2  2.320  18.61  1.0\n",
       "3  3.215  19.44  0.0\n",
       "4  3.440  17.02  0.0"
      ]
     },
     "execution_count": 89,
     "metadata": {},
     "output_type": "execute_result"
    }
   ],
   "source": [
    "x_new=pd.DataFrame(X_rfe)\n",
    "x_new.columns=cols\n",
    "x_new.head()"
   ]
  },
  {
   "cell_type": "code",
   "execution_count": 98,
   "metadata": {},
   "outputs": [],
   "source": [
    "xtrain,xtest,ytrain,ytest=train_test_split(x_new,y,test_size=0.3,random_state=0)"
   ]
  },
  {
   "cell_type": "code",
   "execution_count": 102,
   "metadata": {},
   "outputs": [
    {
     "name": "stdout",
     "output_type": "stream",
     "text": [
      "RMSE scores: 2.774(+/- 0.72398) [Linear_Regression]\n"
     ]
    }
   ],
   "source": [
    "from sklearn.model_selection import KFold\n",
    "from sklearn import metrics\n",
    "kf=KFold(n_splits=5,shuffle=True,random_state=0)\n",
    "for model, name in zip([model],[\"Linear_Regression\"]):\n",
    "    rmse=[]\n",
    "    for train_idx,test_idx in kf.split(x,y):       \n",
    "        xtrain,xtest=x_new.iloc[train_idx,:],x.iloc[test_idx,:]\n",
    "        ytrain,ytest=y.iloc[train_idx],y.iloc[test_idx]\n",
    "        model.fit(xtrain,ytrain)\n",
    "        y_predict=model.predict(xtest)  \n",
    "        mse=metrics.mean_squared_error(ytest,y_predict) \n",
    "        rmse.append(np.sqrt(mse))\n",
    "    print('RMSE scores: %0.03f(+/- %0.5f) [%s]' %(np.mean(rmse),np.var(rmse,ddof=1),name))"
   ]
  },
  {
   "cell_type": "code",
   "execution_count": 103,
   "metadata": {},
   "outputs": [],
   "source": [
    "from sklearn.linear_model import Ridge,Lasso,ElasticNet\n",
    "LR=LinearRegression()\n",
    "Rd=Ridge(normalize=True)\n",
    "La=Lasso(normalize=True)\n",
    "En=ElasticNet(normalize=True)  "
   ]
  },
  {
   "cell_type": "code",
   "execution_count": 104,
   "metadata": {},
   "outputs": [],
   "source": [
    "from sklearn.model_selection import GridSearchCV   \n",
    "param_Rd={'alpha':np.arange(0.1,1,0.01)}\n",
    "param_La={'alpha':np.arange(0.1,1,0.01)}\n",
    "param_En={'alpha':np.arange(0.1,1,0.01),'l1_ratio':np.arange(0.1,1,0.01)}"
   ]
  },
  {
   "cell_type": "code",
   "execution_count": 105,
   "metadata": {},
   "outputs": [
    {
     "data": {
      "text/plain": [
       "{'alpha': 0.45999999999999985}"
      ]
     },
     "execution_count": 105,
     "metadata": {},
     "output_type": "execute_result"
    }
   ],
   "source": [
    "GS_Rd=GridSearchCV(Rd,param_Rd,cv=5,scoring='r2')\n",
    "GS_Rd.fit(x_new,y)\n",
    "GS_Rd.best_params_"
   ]
  },
  {
   "cell_type": "code",
   "execution_count": 107,
   "metadata": {},
   "outputs": [
    {
     "data": {
      "text/plain": [
       "{'alpha': 0.14999999999999997}"
      ]
     },
     "execution_count": 107,
     "metadata": {},
     "output_type": "execute_result"
    }
   ],
   "source": [
    "GS_La=GridSearchCV(La,param_La,cv=5,scoring='r2')\n",
    "GS_La.fit(x_new,y)\n",
    "GS_La.best_params_"
   ]
  },
  {
   "cell_type": "code",
   "execution_count": 108,
   "metadata": {},
   "outputs": [
    {
     "data": {
      "text/plain": [
       "{'alpha': 0.1, 'l1_ratio': 0.9199999999999996}"
      ]
     },
     "execution_count": 108,
     "metadata": {},
     "output_type": "execute_result"
    }
   ],
   "source": [
    "GS_En=GridSearchCV(En,param_En,cv=5,scoring='r2')\n",
    "GS_En.fit(x_new,y)\n",
    "GS_En.best_params_"
   ]
  },
  {
   "cell_type": "code",
   "execution_count": 109,
   "metadata": {},
   "outputs": [],
   "source": [
    "LR=LinearRegression()\n",
    "Rd=Ridge(normalize=True)\n",
    "La=Lasso(normalize=True)\n",
    "En=ElasticNet(l1_ratio=0.919,normalize=True) "
   ]
  },
  {
   "cell_type": "code",
   "execution_count": 110,
   "metadata": {},
   "outputs": [
    {
     "name": "stdout",
     "output_type": "stream",
     "text": [
      "RMSE scores: 2.774(+/- 0.85087) [Linear_Regression]\n",
      "RMSE scores: 3.475(+/- 0.86976) [Ridge]\n",
      "RMSE scores: 6.134(+/- 1.06563) [Lasso]\n",
      "RMSE scores: 6.142(+/- 1.04154) [ElasticNet]\n"
     ]
    }
   ],
   "source": [
    "from sklearn.model_selection import KFold\n",
    "from sklearn import metrics\n",
    "kf=KFold(n_splits=5,shuffle=True,random_state=0)\n",
    "for model, name in zip([LR,Rd,La,En],[\"Linear_Regression\",\"Ridge\",\"Lasso\",\"ElasticNet\"]):\n",
    "    rmse=[]\n",
    "    for train_idx,test_idx in kf.split(x,y):       \n",
    "        xtrain,xtest=x_new.iloc[train_idx,:],x.iloc[test_idx,:]\n",
    "        ytrain,ytest=y.iloc[train_idx],y.iloc[test_idx]\n",
    "        model.fit(xtrain,ytrain)\n",
    "        y_predict=model.predict(xtest) \n",
    "        mse=metrics.mean_squared_error(ytest,y_predict) \n",
    "        rmse.append(np.sqrt(mse))\n",
    "    print('RMSE scores: %0.03f(+/- %0.5f) [%s]' %(np.mean(rmse),np.std(rmse,ddof=1),name))"
   ]
  },
  {
   "cell_type": "markdown",
   "metadata": {},
   "source": [
    "#### Linear Regression is a better model in this case as RMSE = 2.7 and variance error=0.85"
   ]
  },
  {
   "cell_type": "code",
   "execution_count": null,
   "metadata": {},
   "outputs": [],
   "source": []
  }
 ],
 "metadata": {
  "kernelspec": {
   "display_name": "Python 3",
   "language": "python",
   "name": "python3"
  },
  "language_info": {
   "codemirror_mode": {
    "name": "ipython",
    "version": 3
   },
   "file_extension": ".py",
   "mimetype": "text/x-python",
   "name": "python",
   "nbconvert_exporter": "python",
   "pygments_lexer": "ipython3",
   "version": "3.7.3"
  }
 },
 "nbformat": 4,
 "nbformat_minor": 2
}
