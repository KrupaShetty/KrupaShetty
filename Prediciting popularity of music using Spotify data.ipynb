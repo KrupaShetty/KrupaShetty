{
 "cells": [
  {
   "cell_type": "code",
   "execution_count": 1,
   "metadata": {},
   "outputs": [],
   "source": [
    "import  numpy   as np\n",
    "import pandas    as pd\n",
    "import matplotlib.pyplot     as     plt\n",
    "%matplotlib inline\n",
    "import seaborn as sns\n",
    "pd.options.display.max_rows = 1000000\n",
    "pd.options.display.max_columns = 100000"
   ]
  },
  {
   "cell_type": "code",
   "execution_count": 2,
   "metadata": {},
   "outputs": [],
   "source": [
    "df=pd.read_csv('C:/Users/Amey Parekh/Capstone/SpotifyAudioFeaturesApril2019.csv/SpotifyAudioFeaturesApril2019.csv')"
   ]
  },
  {
   "cell_type": "code",
   "execution_count": 3,
   "metadata": {},
   "outputs": [
    {
     "data": {
      "text/html": [
       "<div>\n",
       "<style scoped>\n",
       "    .dataframe tbody tr th:only-of-type {\n",
       "        vertical-align: middle;\n",
       "    }\n",
       "\n",
       "    .dataframe tbody tr th {\n",
       "        vertical-align: top;\n",
       "    }\n",
       "\n",
       "    .dataframe thead th {\n",
       "        text-align: right;\n",
       "    }\n",
       "</style>\n",
       "<table border=\"1\" class=\"dataframe\">\n",
       "  <thead>\n",
       "    <tr style=\"text-align: right;\">\n",
       "      <th></th>\n",
       "      <th>artist_name</th>\n",
       "      <th>track_id</th>\n",
       "      <th>track_name</th>\n",
       "      <th>acousticness</th>\n",
       "      <th>danceability</th>\n",
       "      <th>duration_ms</th>\n",
       "      <th>energy</th>\n",
       "      <th>instrumentalness</th>\n",
       "      <th>key</th>\n",
       "      <th>liveness</th>\n",
       "      <th>loudness</th>\n",
       "      <th>mode</th>\n",
       "      <th>speechiness</th>\n",
       "      <th>tempo</th>\n",
       "      <th>time_signature</th>\n",
       "      <th>valence</th>\n",
       "      <th>popularity</th>\n",
       "    </tr>\n",
       "  </thead>\n",
       "  <tbody>\n",
       "    <tr>\n",
       "      <th>0</th>\n",
       "      <td>YG</td>\n",
       "      <td>2RM4jf1Xa9zPgMGRDiht8O</td>\n",
       "      <td>Big Bank feat. 2 Chainz, Big Sean, Nicki Minaj</td>\n",
       "      <td>0.005820</td>\n",
       "      <td>0.743</td>\n",
       "      <td>238373</td>\n",
       "      <td>0.339</td>\n",
       "      <td>0.000</td>\n",
       "      <td>1</td>\n",
       "      <td>0.0812</td>\n",
       "      <td>-7.678</td>\n",
       "      <td>1</td>\n",
       "      <td>0.4090</td>\n",
       "      <td>203.927</td>\n",
       "      <td>4</td>\n",
       "      <td>0.118</td>\n",
       "      <td>15</td>\n",
       "    </tr>\n",
       "    <tr>\n",
       "      <th>1</th>\n",
       "      <td>YG</td>\n",
       "      <td>1tHDG53xJNGsItRA3vfVgs</td>\n",
       "      <td>BAND DRUM (feat. A$AP Rocky)</td>\n",
       "      <td>0.024400</td>\n",
       "      <td>0.846</td>\n",
       "      <td>214800</td>\n",
       "      <td>0.557</td>\n",
       "      <td>0.000</td>\n",
       "      <td>8</td>\n",
       "      <td>0.2860</td>\n",
       "      <td>-7.259</td>\n",
       "      <td>1</td>\n",
       "      <td>0.4570</td>\n",
       "      <td>159.009</td>\n",
       "      <td>4</td>\n",
       "      <td>0.371</td>\n",
       "      <td>0</td>\n",
       "    </tr>\n",
       "    <tr>\n",
       "      <th>2</th>\n",
       "      <td>R3HAB</td>\n",
       "      <td>6Wosx2euFPMT14UXiWudMy</td>\n",
       "      <td>Radio Silence</td>\n",
       "      <td>0.025000</td>\n",
       "      <td>0.603</td>\n",
       "      <td>138913</td>\n",
       "      <td>0.723</td>\n",
       "      <td>0.000</td>\n",
       "      <td>9</td>\n",
       "      <td>0.0824</td>\n",
       "      <td>-5.890</td>\n",
       "      <td>0</td>\n",
       "      <td>0.0454</td>\n",
       "      <td>114.966</td>\n",
       "      <td>4</td>\n",
       "      <td>0.382</td>\n",
       "      <td>56</td>\n",
       "    </tr>\n",
       "    <tr>\n",
       "      <th>3</th>\n",
       "      <td>Chris Cooq</td>\n",
       "      <td>3J2Jpw61sO7l6Hc7qdYV91</td>\n",
       "      <td>Lactose</td>\n",
       "      <td>0.029400</td>\n",
       "      <td>0.800</td>\n",
       "      <td>125381</td>\n",
       "      <td>0.579</td>\n",
       "      <td>0.912</td>\n",
       "      <td>5</td>\n",
       "      <td>0.0994</td>\n",
       "      <td>-12.118</td>\n",
       "      <td>0</td>\n",
       "      <td>0.0701</td>\n",
       "      <td>123.003</td>\n",
       "      <td>4</td>\n",
       "      <td>0.641</td>\n",
       "      <td>0</td>\n",
       "    </tr>\n",
       "    <tr>\n",
       "      <th>4</th>\n",
       "      <td>Chris Cooq</td>\n",
       "      <td>2jbYvQCyPgX3CdmAzeVeuS</td>\n",
       "      <td>Same - Original mix</td>\n",
       "      <td>0.000035</td>\n",
       "      <td>0.783</td>\n",
       "      <td>124016</td>\n",
       "      <td>0.792</td>\n",
       "      <td>0.878</td>\n",
       "      <td>7</td>\n",
       "      <td>0.0332</td>\n",
       "      <td>-10.277</td>\n",
       "      <td>1</td>\n",
       "      <td>0.0661</td>\n",
       "      <td>120.047</td>\n",
       "      <td>4</td>\n",
       "      <td>0.928</td>\n",
       "      <td>0</td>\n",
       "    </tr>\n",
       "  </tbody>\n",
       "</table>\n",
       "</div>"
      ],
      "text/plain": [
       "  artist_name                track_id  \\\n",
       "0          YG  2RM4jf1Xa9zPgMGRDiht8O   \n",
       "1          YG  1tHDG53xJNGsItRA3vfVgs   \n",
       "2       R3HAB  6Wosx2euFPMT14UXiWudMy   \n",
       "3  Chris Cooq  3J2Jpw61sO7l6Hc7qdYV91   \n",
       "4  Chris Cooq  2jbYvQCyPgX3CdmAzeVeuS   \n",
       "\n",
       "                                       track_name  acousticness  danceability  \\\n",
       "0  Big Bank feat. 2 Chainz, Big Sean, Nicki Minaj      0.005820         0.743   \n",
       "1                    BAND DRUM (feat. A$AP Rocky)      0.024400         0.846   \n",
       "2                                   Radio Silence      0.025000         0.603   \n",
       "3                                         Lactose      0.029400         0.800   \n",
       "4                             Same - Original mix      0.000035         0.783   \n",
       "\n",
       "   duration_ms  energy  instrumentalness  key  liveness  loudness  mode  \\\n",
       "0       238373   0.339             0.000    1    0.0812    -7.678     1   \n",
       "1       214800   0.557             0.000    8    0.2860    -7.259     1   \n",
       "2       138913   0.723             0.000    9    0.0824    -5.890     0   \n",
       "3       125381   0.579             0.912    5    0.0994   -12.118     0   \n",
       "4       124016   0.792             0.878    7    0.0332   -10.277     1   \n",
       "\n",
       "   speechiness    tempo  time_signature  valence  popularity  \n",
       "0       0.4090  203.927               4    0.118          15  \n",
       "1       0.4570  159.009               4    0.371           0  \n",
       "2       0.0454  114.966               4    0.382          56  \n",
       "3       0.0701  123.003               4    0.641           0  \n",
       "4       0.0661  120.047               4    0.928           0  "
      ]
     },
     "execution_count": 3,
     "metadata": {},
     "output_type": "execute_result"
    }
   ],
   "source": [
    "df.head()"
   ]
  },
  {
   "cell_type": "code",
   "execution_count": 4,
   "metadata": {},
   "outputs": [
    {
     "data": {
      "text/plain": [
       "Index(['artist_name', 'track_id', 'track_name', 'acousticness', 'danceability',\n",
       "       'duration_ms', 'energy', 'instrumentalness', 'key', 'liveness',\n",
       "       'loudness', 'mode', 'speechiness', 'tempo', 'time_signature', 'valence',\n",
       "       'popularity'],\n",
       "      dtype='object')"
      ]
     },
     "execution_count": 4,
     "metadata": {},
     "output_type": "execute_result"
    }
   ],
   "source": [
    "df.columns"
   ]
  },
  {
   "cell_type": "code",
   "execution_count": 5,
   "metadata": {},
   "outputs": [],
   "source": [
    "df=df.drop(['track_id','track_name'],axis=1)"
   ]
  },
  {
   "cell_type": "markdown",
   "metadata": {},
   "source": [
    "### Binning the original data to create two classes in Y variable (popularity)"
   ]
  },
  {
   "cell_type": "code",
   "execution_count": 6,
   "metadata": {},
   "outputs": [],
   "source": [
    "bins=[-1,38,100]\n",
    "bins_name=[0,1]\n",
    "df['popularity_class']=pd.cut(df['popularity'],bins=bins,labels=bins_name)\n",
    "df['popularity_class']=pd.to_numeric(df['popularity_class'])"
   ]
  },
  {
   "cell_type": "code",
   "execution_count": 7,
   "metadata": {},
   "outputs": [],
   "source": [
    "new_df=df.drop('popularity',axis=1)"
   ]
  },
  {
   "cell_type": "code",
   "execution_count": 8,
   "metadata": {},
   "outputs": [
    {
     "data": {
      "text/html": [
       "<div>\n",
       "<style scoped>\n",
       "    .dataframe tbody tr th:only-of-type {\n",
       "        vertical-align: middle;\n",
       "    }\n",
       "\n",
       "    .dataframe tbody tr th {\n",
       "        vertical-align: top;\n",
       "    }\n",
       "\n",
       "    .dataframe thead th {\n",
       "        text-align: right;\n",
       "    }\n",
       "</style>\n",
       "<table border=\"1\" class=\"dataframe\">\n",
       "  <thead>\n",
       "    <tr style=\"text-align: right;\">\n",
       "      <th></th>\n",
       "      <th>artist_name</th>\n",
       "      <th>acousticness</th>\n",
       "      <th>danceability</th>\n",
       "      <th>duration_ms</th>\n",
       "      <th>energy</th>\n",
       "      <th>instrumentalness</th>\n",
       "      <th>key</th>\n",
       "      <th>liveness</th>\n",
       "      <th>loudness</th>\n",
       "      <th>mode</th>\n",
       "      <th>speechiness</th>\n",
       "      <th>tempo</th>\n",
       "      <th>time_signature</th>\n",
       "      <th>valence</th>\n",
       "      <th>popularity_class</th>\n",
       "    </tr>\n",
       "  </thead>\n",
       "  <tbody>\n",
       "    <tr>\n",
       "      <th>0</th>\n",
       "      <td>YG</td>\n",
       "      <td>0.005820</td>\n",
       "      <td>0.743</td>\n",
       "      <td>238373</td>\n",
       "      <td>0.339</td>\n",
       "      <td>0.000</td>\n",
       "      <td>1</td>\n",
       "      <td>0.0812</td>\n",
       "      <td>-7.678</td>\n",
       "      <td>1</td>\n",
       "      <td>0.4090</td>\n",
       "      <td>203.927</td>\n",
       "      <td>4</td>\n",
       "      <td>0.118</td>\n",
       "      <td>0</td>\n",
       "    </tr>\n",
       "    <tr>\n",
       "      <th>1</th>\n",
       "      <td>YG</td>\n",
       "      <td>0.024400</td>\n",
       "      <td>0.846</td>\n",
       "      <td>214800</td>\n",
       "      <td>0.557</td>\n",
       "      <td>0.000</td>\n",
       "      <td>8</td>\n",
       "      <td>0.2860</td>\n",
       "      <td>-7.259</td>\n",
       "      <td>1</td>\n",
       "      <td>0.4570</td>\n",
       "      <td>159.009</td>\n",
       "      <td>4</td>\n",
       "      <td>0.371</td>\n",
       "      <td>0</td>\n",
       "    </tr>\n",
       "    <tr>\n",
       "      <th>2</th>\n",
       "      <td>R3HAB</td>\n",
       "      <td>0.025000</td>\n",
       "      <td>0.603</td>\n",
       "      <td>138913</td>\n",
       "      <td>0.723</td>\n",
       "      <td>0.000</td>\n",
       "      <td>9</td>\n",
       "      <td>0.0824</td>\n",
       "      <td>-5.890</td>\n",
       "      <td>0</td>\n",
       "      <td>0.0454</td>\n",
       "      <td>114.966</td>\n",
       "      <td>4</td>\n",
       "      <td>0.382</td>\n",
       "      <td>1</td>\n",
       "    </tr>\n",
       "    <tr>\n",
       "      <th>3</th>\n",
       "      <td>Chris Cooq</td>\n",
       "      <td>0.029400</td>\n",
       "      <td>0.800</td>\n",
       "      <td>125381</td>\n",
       "      <td>0.579</td>\n",
       "      <td>0.912</td>\n",
       "      <td>5</td>\n",
       "      <td>0.0994</td>\n",
       "      <td>-12.118</td>\n",
       "      <td>0</td>\n",
       "      <td>0.0701</td>\n",
       "      <td>123.003</td>\n",
       "      <td>4</td>\n",
       "      <td>0.641</td>\n",
       "      <td>0</td>\n",
       "    </tr>\n",
       "    <tr>\n",
       "      <th>4</th>\n",
       "      <td>Chris Cooq</td>\n",
       "      <td>0.000035</td>\n",
       "      <td>0.783</td>\n",
       "      <td>124016</td>\n",
       "      <td>0.792</td>\n",
       "      <td>0.878</td>\n",
       "      <td>7</td>\n",
       "      <td>0.0332</td>\n",
       "      <td>-10.277</td>\n",
       "      <td>1</td>\n",
       "      <td>0.0661</td>\n",
       "      <td>120.047</td>\n",
       "      <td>4</td>\n",
       "      <td>0.928</td>\n",
       "      <td>0</td>\n",
       "    </tr>\n",
       "  </tbody>\n",
       "</table>\n",
       "</div>"
      ],
      "text/plain": [
       "  artist_name  acousticness  danceability  duration_ms  energy  \\\n",
       "0          YG      0.005820         0.743       238373   0.339   \n",
       "1          YG      0.024400         0.846       214800   0.557   \n",
       "2       R3HAB      0.025000         0.603       138913   0.723   \n",
       "3  Chris Cooq      0.029400         0.800       125381   0.579   \n",
       "4  Chris Cooq      0.000035         0.783       124016   0.792   \n",
       "\n",
       "   instrumentalness  key  liveness  loudness  mode  speechiness    tempo  \\\n",
       "0             0.000    1    0.0812    -7.678     1       0.4090  203.927   \n",
       "1             0.000    8    0.2860    -7.259     1       0.4570  159.009   \n",
       "2             0.000    9    0.0824    -5.890     0       0.0454  114.966   \n",
       "3             0.912    5    0.0994   -12.118     0       0.0701  123.003   \n",
       "4             0.878    7    0.0332   -10.277     1       0.0661  120.047   \n",
       "\n",
       "   time_signature  valence  popularity_class  \n",
       "0               4    0.118                 0  \n",
       "1               4    0.371                 0  \n",
       "2               4    0.382                 1  \n",
       "3               4    0.641                 0  \n",
       "4               4    0.928                 0  "
      ]
     },
     "execution_count": 8,
     "metadata": {},
     "output_type": "execute_result"
    }
   ],
   "source": [
    "new_df.head()"
   ]
  },
  {
   "cell_type": "markdown",
   "metadata": {},
   "source": [
    "### Feature Engineering:  creating new column  which is mean encoding of 'artist_name'"
   ]
  },
  {
   "cell_type": "code",
   "execution_count": 9,
   "metadata": {},
   "outputs": [
    {
     "name": "stderr",
     "output_type": "stream",
     "text": [
      "E:\\Great_Learning\\Anaconda\\lib\\site-packages\\pandas\\core\\reshape\\merge.py:522: UserWarning: merging between different levels can give an unintended result (1 levels on the left, 2 on the right)\n",
      "  warnings.warn(msg, UserWarning)\n",
      "E:\\Great_Learning\\Anaconda\\lib\\site-packages\\pandas\\core\\generic.py:3812: PerformanceWarning: dropping on a non-lexsorted multi-index without a level parameter may impact performance.\n",
      "  new_axis = axis.drop(labels, errors=errors)\n"
     ]
    }
   ],
   "source": [
    "mean_encoding=new_df.groupby(by=\"artist_name\").agg({'popularity_class':['mean']}).reset_index()\n",
    "data = new_df.merge(mean_encoding,on='artist_name',how='left')"
   ]
  },
  {
   "cell_type": "code",
   "execution_count": 10,
   "metadata": {},
   "outputs": [
    {
     "data": {
      "text/plain": [
       "Index([               'artist_name',               'acousticness',\n",
       "                     'danceability',                'duration_ms',\n",
       "                           'energy',           'instrumentalness',\n",
       "                              'key',                   'liveness',\n",
       "                         'loudness',                       'mode',\n",
       "                      'speechiness',                      'tempo',\n",
       "                   'time_signature',                    'valence',\n",
       "                 'popularity_class', ('popularity_class', 'mean')],\n",
       "      dtype='object')"
      ]
     },
     "execution_count": 10,
     "metadata": {},
     "output_type": "execute_result"
    }
   ],
   "source": [
    "data.columns"
   ]
  },
  {
   "cell_type": "code",
   "execution_count": 11,
   "metadata": {},
   "outputs": [],
   "source": [
    "data=data.drop(['artist_name'],axis=1)"
   ]
  },
  {
   "cell_type": "code",
   "execution_count": 12,
   "metadata": {},
   "outputs": [
    {
     "data": {
      "text/html": [
       "<div>\n",
       "<style scoped>\n",
       "    .dataframe tbody tr th:only-of-type {\n",
       "        vertical-align: middle;\n",
       "    }\n",
       "\n",
       "    .dataframe tbody tr th {\n",
       "        vertical-align: top;\n",
       "    }\n",
       "\n",
       "    .dataframe thead th {\n",
       "        text-align: right;\n",
       "    }\n",
       "</style>\n",
       "<table border=\"1\" class=\"dataframe\">\n",
       "  <thead>\n",
       "    <tr style=\"text-align: right;\">\n",
       "      <th></th>\n",
       "      <th>acousticness</th>\n",
       "      <th>danceability</th>\n",
       "      <th>duration_ms</th>\n",
       "      <th>energy</th>\n",
       "      <th>instrumentalness</th>\n",
       "      <th>key</th>\n",
       "      <th>liveness</th>\n",
       "      <th>loudness</th>\n",
       "      <th>mode</th>\n",
       "      <th>speechiness</th>\n",
       "      <th>tempo</th>\n",
       "      <th>time_signature</th>\n",
       "      <th>valence</th>\n",
       "      <th>popularity_class</th>\n",
       "      <th>(popularity_class, mean)</th>\n",
       "    </tr>\n",
       "  </thead>\n",
       "  <tbody>\n",
       "    <tr>\n",
       "      <th>0</th>\n",
       "      <td>0.00582</td>\n",
       "      <td>0.743</td>\n",
       "      <td>238373</td>\n",
       "      <td>0.339</td>\n",
       "      <td>0.0</td>\n",
       "      <td>1</td>\n",
       "      <td>0.0812</td>\n",
       "      <td>-7.678</td>\n",
       "      <td>1</td>\n",
       "      <td>0.409</td>\n",
       "      <td>203.927</td>\n",
       "      <td>4</td>\n",
       "      <td>0.118</td>\n",
       "      <td>0</td>\n",
       "      <td>0.75</td>\n",
       "    </tr>\n",
       "    <tr>\n",
       "      <th>1</th>\n",
       "      <td>0.02440</td>\n",
       "      <td>0.846</td>\n",
       "      <td>214800</td>\n",
       "      <td>0.557</td>\n",
       "      <td>0.0</td>\n",
       "      <td>8</td>\n",
       "      <td>0.2860</td>\n",
       "      <td>-7.259</td>\n",
       "      <td>1</td>\n",
       "      <td>0.457</td>\n",
       "      <td>159.009</td>\n",
       "      <td>4</td>\n",
       "      <td>0.371</td>\n",
       "      <td>0</td>\n",
       "      <td>0.75</td>\n",
       "    </tr>\n",
       "  </tbody>\n",
       "</table>\n",
       "</div>"
      ],
      "text/plain": [
       "   acousticness  danceability  duration_ms  energy  instrumentalness  key  \\\n",
       "0       0.00582         0.743       238373   0.339               0.0    1   \n",
       "1       0.02440         0.846       214800   0.557               0.0    8   \n",
       "\n",
       "   liveness  loudness  mode  speechiness    tempo  time_signature  valence  \\\n",
       "0    0.0812    -7.678     1        0.409  203.927               4    0.118   \n",
       "1    0.2860    -7.259     1        0.457  159.009               4    0.371   \n",
       "\n",
       "   popularity_class  (popularity_class, mean)  \n",
       "0                 0                      0.75  \n",
       "1                 0                      0.75  "
      ]
     },
     "execution_count": 12,
     "metadata": {},
     "output_type": "execute_result"
    }
   ],
   "source": [
    "data.head(2)"
   ]
  },
  {
   "cell_type": "code",
   "execution_count": 13,
   "metadata": {},
   "outputs": [
    {
     "name": "stdout",
     "output_type": "stream",
     "text": [
      "<class 'pandas.core.frame.DataFrame'>\n",
      "Int64Index: 130663 entries, 0 to 130662\n",
      "Data columns (total 15 columns):\n",
      "acousticness                130663 non-null float64\n",
      "danceability                130663 non-null float64\n",
      "duration_ms                 130663 non-null int64\n",
      "energy                      130663 non-null float64\n",
      "instrumentalness            130663 non-null float64\n",
      "key                         130663 non-null int64\n",
      "liveness                    130663 non-null float64\n",
      "loudness                    130663 non-null float64\n",
      "mode                        130663 non-null int64\n",
      "speechiness                 130663 non-null float64\n",
      "tempo                       130663 non-null float64\n",
      "time_signature              130663 non-null int64\n",
      "valence                     130663 non-null float64\n",
      "popularity_class            130663 non-null int64\n",
      "(popularity_class, mean)    130663 non-null float64\n",
      "dtypes: float64(10), int64(5)\n",
      "memory usage: 16.0 MB\n"
     ]
    }
   ],
   "source": [
    "data.info()   #### final dataset"
   ]
  },
  {
   "cell_type": "code",
   "execution_count": 14,
   "metadata": {},
   "outputs": [
    {
     "data": {
      "text/plain": [
       "0    99216\n",
       "1    31447\n",
       "Name: popularity_class, dtype: int64"
      ]
     },
     "execution_count": 14,
     "metadata": {},
     "output_type": "execute_result"
    }
   ],
   "source": [
    "data['popularity_class'].value_counts() ### Y variable is dividend in 75-25 (3:1) ratio"
   ]
  },
  {
   "cell_type": "code",
   "execution_count": 15,
   "metadata": {},
   "outputs": [],
   "source": [
    "##CHECKING FOR MULTICOLLINEARITY:"
   ]
  },
  {
   "cell_type": "code",
   "execution_count": 16,
   "metadata": {},
   "outputs": [],
   "source": [
    "from statsmodels.stats.outliers_influence import variance_inflation_factor"
   ]
  },
  {
   "cell_type": "code",
   "execution_count": 17,
   "metadata": {},
   "outputs": [
    {
     "data": {
      "text/html": [
       "<div>\n",
       "<style scoped>\n",
       "    .dataframe tbody tr th:only-of-type {\n",
       "        vertical-align: middle;\n",
       "    }\n",
       "\n",
       "    .dataframe tbody tr th {\n",
       "        vertical-align: top;\n",
       "    }\n",
       "\n",
       "    .dataframe thead th {\n",
       "        text-align: right;\n",
       "    }\n",
       "</style>\n",
       "<table border=\"1\" class=\"dataframe\">\n",
       "  <thead>\n",
       "    <tr style=\"text-align: right;\">\n",
       "      <th></th>\n",
       "      <th>VIF Factor</th>\n",
       "      <th>features</th>\n",
       "    </tr>\n",
       "  </thead>\n",
       "  <tbody>\n",
       "    <tr>\n",
       "      <th>0</th>\n",
       "      <td>3.84</td>\n",
       "      <td>acousticness</td>\n",
       "    </tr>\n",
       "    <tr>\n",
       "      <th>1</th>\n",
       "      <td>15.77</td>\n",
       "      <td>danceability</td>\n",
       "    </tr>\n",
       "    <tr>\n",
       "      <th>2</th>\n",
       "      <td>4.02</td>\n",
       "      <td>duration_ms</td>\n",
       "    </tr>\n",
       "    <tr>\n",
       "      <th>3</th>\n",
       "      <td>16.19</td>\n",
       "      <td>energy</td>\n",
       "    </tr>\n",
       "    <tr>\n",
       "      <th>4</th>\n",
       "      <td>2.07</td>\n",
       "      <td>instrumentalness</td>\n",
       "    </tr>\n",
       "    <tr>\n",
       "      <th>5</th>\n",
       "      <td>3.17</td>\n",
       "      <td>key</td>\n",
       "    </tr>\n",
       "    <tr>\n",
       "      <th>6</th>\n",
       "      <td>2.65</td>\n",
       "      <td>liveness</td>\n",
       "    </tr>\n",
       "    <tr>\n",
       "      <th>7</th>\n",
       "      <td>8.56</td>\n",
       "      <td>loudness</td>\n",
       "    </tr>\n",
       "    <tr>\n",
       "      <th>8</th>\n",
       "      <td>2.60</td>\n",
       "      <td>mode</td>\n",
       "    </tr>\n",
       "    <tr>\n",
       "      <th>9</th>\n",
       "      <td>2.08</td>\n",
       "      <td>speechiness</td>\n",
       "    </tr>\n",
       "    <tr>\n",
       "      <th>10</th>\n",
       "      <td>15.98</td>\n",
       "      <td>tempo</td>\n",
       "    </tr>\n",
       "    <tr>\n",
       "      <th>11</th>\n",
       "      <td>41.58</td>\n",
       "      <td>time_signature</td>\n",
       "    </tr>\n",
       "    <tr>\n",
       "      <th>12</th>\n",
       "      <td>5.53</td>\n",
       "      <td>valence</td>\n",
       "    </tr>\n",
       "    <tr>\n",
       "      <th>13</th>\n",
       "      <td>4.79</td>\n",
       "      <td>popularity_class</td>\n",
       "    </tr>\n",
       "    <tr>\n",
       "      <th>14</th>\n",
       "      <td>5.30</td>\n",
       "      <td>(popularity_class, mean)</td>\n",
       "    </tr>\n",
       "  </tbody>\n",
       "</table>\n",
       "</div>"
      ],
      "text/plain": [
       "    VIF Factor                  features\n",
       "0         3.84              acousticness\n",
       "1        15.77              danceability\n",
       "2         4.02               duration_ms\n",
       "3        16.19                    energy\n",
       "4         2.07          instrumentalness\n",
       "5         3.17                       key\n",
       "6         2.65                  liveness\n",
       "7         8.56                  loudness\n",
       "8         2.60                      mode\n",
       "9         2.08               speechiness\n",
       "10       15.98                     tempo\n",
       "11       41.58            time_signature\n",
       "12        5.53                   valence\n",
       "13        4.79          popularity_class\n",
       "14        5.30  (popularity_class, mean)"
      ]
     },
     "execution_count": 17,
     "metadata": {},
     "output_type": "execute_result"
    }
   ],
   "source": [
    "vif = pd.DataFrame()\n",
    "vif[\"VIF Factor\"] = [variance_inflation_factor(data.values, i) for i in range(data.shape[1])]\n",
    "vif[\"features\"] = data.columns\n",
    "\n",
    "vif.round(2)"
   ]
  },
  {
   "cell_type": "code",
   "execution_count": 18,
   "metadata": {},
   "outputs": [],
   "source": [
    "discard= vif[vif['VIF Factor']>15]\n",
    "accept= vif[vif['VIF Factor']<15]"
   ]
  },
  {
   "cell_type": "code",
   "execution_count": 19,
   "metadata": {},
   "outputs": [
    {
     "data": {
      "text/plain": [
       "array(['danceability', 'energy', 'tempo', 'time_signature'], dtype=object)"
      ]
     },
     "execution_count": 19,
     "metadata": {},
     "output_type": "execute_result"
    }
   ],
   "source": [
    "discard.features.values"
   ]
  },
  {
   "cell_type": "code",
   "execution_count": 20,
   "metadata": {},
   "outputs": [],
   "source": [
    "df_4=data.drop( ['danceability', 'energy', 'tempo', 'time_signature'], axis=1)"
   ]
  },
  {
   "cell_type": "code",
   "execution_count": 21,
   "metadata": {},
   "outputs": [
    {
     "data": {
      "text/html": [
       "<div>\n",
       "<style scoped>\n",
       "    .dataframe tbody tr th:only-of-type {\n",
       "        vertical-align: middle;\n",
       "    }\n",
       "\n",
       "    .dataframe tbody tr th {\n",
       "        vertical-align: top;\n",
       "    }\n",
       "\n",
       "    .dataframe thead th {\n",
       "        text-align: right;\n",
       "    }\n",
       "</style>\n",
       "<table border=\"1\" class=\"dataframe\">\n",
       "  <thead>\n",
       "    <tr style=\"text-align: right;\">\n",
       "      <th></th>\n",
       "      <th>VIF Factor</th>\n",
       "      <th>features</th>\n",
       "    </tr>\n",
       "  </thead>\n",
       "  <tbody>\n",
       "    <tr>\n",
       "      <th>0</th>\n",
       "      <td>3.19</td>\n",
       "      <td>acousticness</td>\n",
       "    </tr>\n",
       "    <tr>\n",
       "      <th>1</th>\n",
       "      <td>3.21</td>\n",
       "      <td>duration_ms</td>\n",
       "    </tr>\n",
       "    <tr>\n",
       "      <th>2</th>\n",
       "      <td>1.99</td>\n",
       "      <td>instrumentalness</td>\n",
       "    </tr>\n",
       "    <tr>\n",
       "      <th>3</th>\n",
       "      <td>2.81</td>\n",
       "      <td>key</td>\n",
       "    </tr>\n",
       "    <tr>\n",
       "      <th>4</th>\n",
       "      <td>2.22</td>\n",
       "      <td>liveness</td>\n",
       "    </tr>\n",
       "    <tr>\n",
       "      <th>5</th>\n",
       "      <td>6.11</td>\n",
       "      <td>loudness</td>\n",
       "    </tr>\n",
       "    <tr>\n",
       "      <th>6</th>\n",
       "      <td>2.40</td>\n",
       "      <td>mode</td>\n",
       "    </tr>\n",
       "    <tr>\n",
       "      <th>7</th>\n",
       "      <td>1.90</td>\n",
       "      <td>speechiness</td>\n",
       "    </tr>\n",
       "    <tr>\n",
       "      <th>8</th>\n",
       "      <td>3.17</td>\n",
       "      <td>valence</td>\n",
       "    </tr>\n",
       "    <tr>\n",
       "      <th>9</th>\n",
       "      <td>4.79</td>\n",
       "      <td>popularity_class</td>\n",
       "    </tr>\n",
       "    <tr>\n",
       "      <th>10</th>\n",
       "      <td>5.19</td>\n",
       "      <td>(popularity_class, mean)</td>\n",
       "    </tr>\n",
       "  </tbody>\n",
       "</table>\n",
       "</div>"
      ],
      "text/plain": [
       "    VIF Factor                  features\n",
       "0         3.19              acousticness\n",
       "1         3.21               duration_ms\n",
       "2         1.99          instrumentalness\n",
       "3         2.81                       key\n",
       "4         2.22                  liveness\n",
       "5         6.11                  loudness\n",
       "6         2.40                      mode\n",
       "7         1.90               speechiness\n",
       "8         3.17                   valence\n",
       "9         4.79          popularity_class\n",
       "10        5.19  (popularity_class, mean)"
      ]
     },
     "execution_count": 21,
     "metadata": {},
     "output_type": "execute_result"
    }
   ],
   "source": [
    "vif = pd.DataFrame()\n",
    "vif[\"VIF Factor\"] = [variance_inflation_factor(df_4.values, i) for i in range(df_4.shape[1])]\n",
    "vif[\"features\"] = df_4.columns\n",
    "\n",
    "vif.round(2)"
   ]
  },
  {
   "cell_type": "markdown",
   "metadata": {},
   "source": [
    "###  Scaling the data for the problem:"
   ]
  },
  {
   "cell_type": "code",
   "execution_count": 22,
   "metadata": {},
   "outputs": [],
   "source": [
    "x=data.drop('popularity_class',axis=1)\n",
    "y=data[['popularity_class']]"
   ]
  },
  {
   "cell_type": "code",
   "execution_count": 23,
   "metadata": {},
   "outputs": [],
   "source": [
    "from sklearn.preprocessing import StandardScaler"
   ]
  },
  {
   "cell_type": "code",
   "execution_count": 24,
   "metadata": {},
   "outputs": [],
   "source": [
    "sc=StandardScaler()"
   ]
  },
  {
   "cell_type": "code",
   "execution_count": 25,
   "metadata": {},
   "outputs": [
    {
     "name": "stderr",
     "output_type": "stream",
     "text": [
      "E:\\Great_Learning\\Anaconda\\lib\\site-packages\\sklearn\\preprocessing\\data.py:645: DataConversionWarning: Data with input dtype int64, float64 were all converted to float64 by StandardScaler.\n",
      "  return self.partial_fit(X, y)\n",
      "E:\\Great_Learning\\Anaconda\\lib\\site-packages\\sklearn\\base.py:464: DataConversionWarning: Data with input dtype int64, float64 were all converted to float64 by StandardScaler.\n",
      "  return self.fit(X, **fit_params).transform(X)\n"
     ]
    }
   ],
   "source": [
    "x_scaled=sc.fit_transform(x)"
   ]
  },
  {
   "cell_type": "code",
   "execution_count": 26,
   "metadata": {},
   "outputs": [
    {
     "data": {
      "text/plain": [
       "Index([              'acousticness',               'danceability',\n",
       "                      'duration_ms',                     'energy',\n",
       "                 'instrumentalness',                        'key',\n",
       "                         'liveness',                   'loudness',\n",
       "                             'mode',                'speechiness',\n",
       "                            'tempo',             'time_signature',\n",
       "                          'valence', ('popularity_class', 'mean')],\n",
       "      dtype='object')"
      ]
     },
     "execution_count": 26,
     "metadata": {},
     "output_type": "execute_result"
    }
   ],
   "source": [
    "x.columns"
   ]
  },
  {
   "cell_type": "code",
   "execution_count": 27,
   "metadata": {},
   "outputs": [
    {
     "data": {
      "text/html": [
       "<div>\n",
       "<style scoped>\n",
       "    .dataframe tbody tr th:only-of-type {\n",
       "        vertical-align: middle;\n",
       "    }\n",
       "\n",
       "    .dataframe tbody tr th {\n",
       "        vertical-align: top;\n",
       "    }\n",
       "\n",
       "    .dataframe thead th {\n",
       "        text-align: right;\n",
       "    }\n",
       "</style>\n",
       "<table border=\"1\" class=\"dataframe\">\n",
       "  <thead>\n",
       "    <tr style=\"text-align: right;\">\n",
       "      <th></th>\n",
       "      <th>acousticness</th>\n",
       "      <th>danceability</th>\n",
       "      <th>duration_ms</th>\n",
       "      <th>energy</th>\n",
       "      <th>instrumentalness</th>\n",
       "      <th>key</th>\n",
       "      <th>liveness</th>\n",
       "      <th>loudness</th>\n",
       "      <th>mode</th>\n",
       "      <th>speechiness</th>\n",
       "      <th>tempo</th>\n",
       "      <th>time_signature</th>\n",
       "      <th>valence</th>\n",
       "      <th>(popularity_class, mean)</th>\n",
       "    </tr>\n",
       "  </thead>\n",
       "  <tbody>\n",
       "    <tr>\n",
       "      <th>0</th>\n",
       "      <td>-0.974080</td>\n",
       "      <td>0.849826</td>\n",
       "      <td>0.209005</td>\n",
       "      <td>-0.884312</td>\n",
       "      <td>-0.621709</td>\n",
       "      <td>-1.174649</td>\n",
       "      <td>-0.677783</td>\n",
       "      <td>0.350838</td>\n",
       "      <td>0.803395</td>\n",
       "      <td>2.388752</td>\n",
       "      <td>2.800232</td>\n",
       "      <td>0.235251</td>\n",
       "      <td>-1.241440</td>\n",
       "      <td>1.399712</td>\n",
       "    </tr>\n",
       "    <tr>\n",
       "      <th>1</th>\n",
       "      <td>-0.920325</td>\n",
       "      <td>1.391714</td>\n",
       "      <td>0.017595</td>\n",
       "      <td>-0.046852</td>\n",
       "      <td>-0.621709</td>\n",
       "      <td>0.768345</td>\n",
       "      <td>0.543208</td>\n",
       "      <td>0.414862</td>\n",
       "      <td>0.803395</td>\n",
       "      <td>2.774832</td>\n",
       "      <td>1.310884</td>\n",
       "      <td>0.235251</td>\n",
       "      <td>-0.264902</td>\n",
       "      <td>1.399712</td>\n",
       "    </tr>\n",
       "    <tr>\n",
       "      <th>2</th>\n",
       "      <td>-0.918589</td>\n",
       "      <td>0.113279</td>\n",
       "      <td>-0.598598</td>\n",
       "      <td>0.590848</td>\n",
       "      <td>-0.621709</td>\n",
       "      <td>1.045915</td>\n",
       "      <td>-0.670628</td>\n",
       "      <td>0.624050</td>\n",
       "      <td>-1.244718</td>\n",
       "      <td>-0.535807</td>\n",
       "      <td>-0.149450</td>\n",
       "      <td>0.235251</td>\n",
       "      <td>-0.222443</td>\n",
       "      <td>1.323375</td>\n",
       "    </tr>\n",
       "    <tr>\n",
       "      <th>3</th>\n",
       "      <td>-0.905859</td>\n",
       "      <td>1.149706</td>\n",
       "      <td>-0.708476</td>\n",
       "      <td>0.037663</td>\n",
       "      <td>1.909328</td>\n",
       "      <td>-0.064367</td>\n",
       "      <td>-0.569277</td>\n",
       "      <td>-0.327610</td>\n",
       "      <td>-1.244718</td>\n",
       "      <td>-0.337136</td>\n",
       "      <td>0.117033</td>\n",
       "      <td>0.235251</td>\n",
       "      <td>0.777254</td>\n",
       "      <td>-0.661406</td>\n",
       "    </tr>\n",
       "    <tr>\n",
       "      <th>4</th>\n",
       "      <td>-0.990817</td>\n",
       "      <td>1.060268</td>\n",
       "      <td>-0.719560</td>\n",
       "      <td>0.855916</td>\n",
       "      <td>1.814969</td>\n",
       "      <td>0.490774</td>\n",
       "      <td>-0.963952</td>\n",
       "      <td>-0.046299</td>\n",
       "      <td>0.803395</td>\n",
       "      <td>-0.369310</td>\n",
       "      <td>0.019020</td>\n",
       "      <td>0.235251</td>\n",
       "      <td>1.885026</td>\n",
       "      <td>-0.661406</td>\n",
       "    </tr>\n",
       "  </tbody>\n",
       "</table>\n",
       "</div>"
      ],
      "text/plain": [
       "   acousticness  danceability  duration_ms    energy  instrumentalness  \\\n",
       "0     -0.974080      0.849826     0.209005 -0.884312         -0.621709   \n",
       "1     -0.920325      1.391714     0.017595 -0.046852         -0.621709   \n",
       "2     -0.918589      0.113279    -0.598598  0.590848         -0.621709   \n",
       "3     -0.905859      1.149706    -0.708476  0.037663          1.909328   \n",
       "4     -0.990817      1.060268    -0.719560  0.855916          1.814969   \n",
       "\n",
       "        key  liveness  loudness      mode  speechiness     tempo  \\\n",
       "0 -1.174649 -0.677783  0.350838  0.803395     2.388752  2.800232   \n",
       "1  0.768345  0.543208  0.414862  0.803395     2.774832  1.310884   \n",
       "2  1.045915 -0.670628  0.624050 -1.244718    -0.535807 -0.149450   \n",
       "3 -0.064367 -0.569277 -0.327610 -1.244718    -0.337136  0.117033   \n",
       "4  0.490774 -0.963952 -0.046299  0.803395    -0.369310  0.019020   \n",
       "\n",
       "   time_signature   valence  (popularity_class, mean)  \n",
       "0        0.235251 -1.241440                  1.399712  \n",
       "1        0.235251 -0.264902                  1.399712  \n",
       "2        0.235251 -0.222443                  1.323375  \n",
       "3        0.235251  0.777254                 -0.661406  \n",
       "4        0.235251  1.885026                 -0.661406  "
      ]
     },
     "execution_count": 27,
     "metadata": {},
     "output_type": "execute_result"
    }
   ],
   "source": [
    "x_scaled_df=pd.DataFrame((x_scaled), columns=['acousticness',               'danceability',\n",
    "                      'duration_ms',                     'energy',\n",
    "                 'instrumentalness',                        'key',\n",
    "                         'liveness',                   'loudness',\n",
    "                             'mode',                'speechiness',\n",
    "                            'tempo',             'time_signature',\n",
    "                          'valence',                \n",
    "       ('popularity_class', 'mean')])\n",
    "x_scaled_df.head()"
   ]
  },
  {
   "cell_type": "code",
   "execution_count": 28,
   "metadata": {},
   "outputs": [
    {
     "data": {
      "text/plain": [
       "(130663, 14)"
      ]
     },
     "execution_count": 28,
     "metadata": {},
     "output_type": "execute_result"
    }
   ],
   "source": [
    "x_scaled_df.shape"
   ]
  },
  {
   "cell_type": "markdown",
   "metadata": {},
   "source": [
    "## LOGISTIC REGRESSION:"
   ]
  },
  {
   "cell_type": "markdown",
   "metadata": {},
   "source": [
    "Why Logistic Regression\n",
    "Logistic regression is a statistical method for predicting binary classes. The outcome or target variable is binary in nature which matches our problem statement"
   ]
  },
  {
   "cell_type": "code",
   "execution_count": 94,
   "metadata": {},
   "outputs": [],
   "source": [
    "from sklearn.linear_model import LogisticRegression\n",
    "from sklearn import metrics\n",
    "from sklearn.model_selection import KFold, cross_val_score\n",
    "import warnings\n",
    "warnings.filterwarnings(\"ignore\")\n",
    "from sklearn.tree import DecisionTreeClassifier"
   ]
  },
  {
   "cell_type": "code",
   "execution_count": 95,
   "metadata": {},
   "outputs": [],
   "source": [
    "log_model = LogisticRegression()###Base model1"
   ]
  },
  {
   "cell_type": "markdown",
   "metadata": {},
   "source": [
    "### TRAIN TEST SPLIT :"
   ]
  },
  {
   "cell_type": "code",
   "execution_count": 97,
   "metadata": {},
   "outputs": [],
   "source": [
    "from  sklearn.model_selection import train_test_split\n",
    "from sklearn import metrics\n",
    "from sklearn.metrics import classification_report"
   ]
  },
  {
   "cell_type": "code",
   "execution_count": 98,
   "metadata": {},
   "outputs": [],
   "source": [
    "x_train, x_test, y_train, y_test = train_test_split(x_scaled,y, test_size = 0.30, random_state = 1)"
   ]
  },
  {
   "cell_type": "code",
   "execution_count": 99,
   "metadata": {},
   "outputs": [
    {
     "data": {
      "text/plain": [
       "LogisticRegression(C=1.0, class_weight=None, dual=False, fit_intercept=True,\n",
       "          intercept_scaling=1, max_iter=100, multi_class='warn',\n",
       "          n_jobs=None, penalty='l2', random_state=None, solver='warn',\n",
       "          tol=0.0001, verbose=0, warm_start=False)"
      ]
     },
     "execution_count": 99,
     "metadata": {},
     "output_type": "execute_result"
    }
   ],
   "source": [
    "log_model.fit(x_train, y_train)"
   ]
  },
  {
   "cell_type": "code",
   "execution_count": 100,
   "metadata": {},
   "outputs": [],
   "source": [
    "y_pred_log=log_model.predict(x_test)"
   ]
  },
  {
   "cell_type": "code",
   "execution_count": 108,
   "metadata": {},
   "outputs": [],
   "source": [
    "y_pred_log1=log_model.predict_proba(x_test)[:,1]"
   ]
  },
  {
   "cell_type": "markdown",
   "metadata": {},
   "source": [
    "## Logistic model evaluation: "
   ]
  },
  {
   "cell_type": "code",
   "execution_count": 122,
   "metadata": {},
   "outputs": [],
   "source": [
    "from sklearn.metrics import accuracy_score,f1_score,recall_score,precision_score, confusion_matrix"
   ]
  },
  {
   "cell_type": "code",
   "execution_count": 101,
   "metadata": {},
   "outputs": [
    {
     "name": "stdout",
     "output_type": "stream",
     "text": [
      "Accuracy: 0.9273195744789408\n",
      "Training set accuracy: 0.927\n",
      "Test set accuracy: 0.927\n",
      "roc_auc: 0.9767811895845984\n"
     ]
    }
   ],
   "source": [
    "# Model Accuracy, how well the model performs\n",
    "print(\"Accuracy:\",metrics.accuracy_score(y_test, y_pred_log))\n",
    "print(\"Training set accuracy: {:.3f}\".format(log_model.score(x_train, y_train)))\n",
    "print(\"Test set accuracy: {:.3f}\".format(log_model.score(x_test, y_test)))\n",
    "print('roc_auc:',metrics.roc_auc_score(y_test,y_pred_log1))"
   ]
  },
  {
   "cell_type": "code",
   "execution_count": 110,
   "metadata": {},
   "outputs": [
    {
     "name": "stdout",
     "output_type": "stream",
     "text": [
      "[[28647  1142]\n",
      " [ 1707  7703]]\n"
     ]
    }
   ],
   "source": [
    "print(confusion_matrix(y_test,y_pred_log))"
   ]
  },
  {
   "cell_type": "code",
   "execution_count": 107,
   "metadata": {},
   "outputs": [
    {
     "name": "stdout",
     "output_type": "stream",
     "text": [
      "              precision    recall  f1-score   support\n",
      "\n",
      "           0       0.94      0.96      0.95     29789\n",
      "           1       0.87      0.82      0.84      9410\n",
      "\n",
      "   micro avg       0.93      0.93      0.93     39199\n",
      "   macro avg       0.91      0.89      0.90     39199\n",
      "weighted avg       0.93      0.93      0.93     39199\n",
      "\n"
     ]
    }
   ],
   "source": [
    "from sklearn.metrics import classification_report\n",
    "print(classification_report(y_test,y_pred_log))"
   ]
  },
  {
   "cell_type": "code",
   "execution_count": 112,
   "metadata": {},
   "outputs": [
    {
     "data": {
      "text/plain": [
       "<matplotlib.axes._subplots.AxesSubplot at 0x15a14172160>"
      ]
     },
     "execution_count": 112,
     "metadata": {},
     "output_type": "execute_result"
    },
    {
     "data": {
      "image/png": "[encoded data removed]",
      "text/plain": [
       "<Figure size 576x360 with 2 Axes>"
      ]
     },
     "metadata": {
      "needs_background": "light"
     },
     "output_type": "display_data"
    }
   ],
   "source": [
    "cm=confusion_matrix(y_test,y_pred_log)\n",
    "conf_matrix=pd.DataFrame(data=cm,columns=['Predicted:0','Predicted:1'],index=['Actual:0','Actual:1'])\n",
    "plt.figure(figsize = (8,5))\n",
    "sns.heatmap(conf_matrix, annot=True,fmt='d',cmap=\"YlGnBu\")"
   ]
  },
  {
   "cell_type": "markdown",
   "metadata": {},
   "source": [
    "### on cross validation:"
   ]
  },
  {
   "cell_type": "code",
   "execution_count": 185,
   "metadata": {},
   "outputs": [
    {
     "name": "stdout",
     "output_type": "stream",
     "text": [
      "ROC_AUC: 0.9766691660851622 VAR: 0.0016703784574860557 logistic\n"
     ]
    }
   ],
   "source": [
    "for model,name in zip([log_model],[\"logistic\"]):# Cross Validating by passing the complete scaled data\n",
    "    error=[]\n",
    "    kfold=KFold(shuffle=True,n_splits=10,random_state=0)\n",
    "    error=cross_val_score(model,x_scaled,y,scoring='roc_auc',cv=kfold)\n",
    "    print(\"ROC_AUC:\",np.mean(error),\"VAR:\",np.std(error,ddof=1),name)"
   ]
  },
  {
   "cell_type": "markdown",
   "metadata": {},
   "source": [
    "###  LOGISTIC After feature selection via RFE CV:"
   ]
  },
  {
   "cell_type": "code",
   "execution_count": 131,
   "metadata": {},
   "outputs": [],
   "source": [
    "from sklearn.feature_selection import RFECV, RFE\n",
    "modelLR=LogisticRegression()"
   ]
  },
  {
   "cell_type": "code",
   "execution_count": 132,
   "metadata": {},
   "outputs": [
    {
     "name": "stdout",
     "output_type": "stream",
     "text": [
      "Optimal number of features for LR : 1\n"
     ]
    }
   ],
   "source": [
    "rfecv = RFECV(estimator=modelLR, step=1,scoring='roc_auc')\n",
    "rfecv.fit(x,y)# Doing RFECV to get best number of Features\n",
    "print(\"Optimal number of features for LR : %d\" % rfecv.n_features_)"
   ]
  },
  {
   "cell_type": "code",
   "execution_count": 133,
   "metadata": {},
   "outputs": [
    {
     "data": {
      "text/plain": [
       "array([ 7,  3, 14,  6,  4, 12,  5,  8, 11,  2, 13, 10,  9,  1])"
      ]
     },
     "execution_count": 133,
     "metadata": {},
     "output_type": "execute_result"
    }
   ],
   "source": [
    "rfecv.ranking_                 \n",
    "####  rfecv is classifying all features importance and assigning a ranking to features as given in scaled data and \n",
    "## classifying the feature engineered column(('popularity_class', 'mean')) as the most important one"
   ]
  },
  {
   "cell_type": "code",
   "execution_count": 149,
   "metadata": {},
   "outputs": [
    {
     "data": {
      "text/plain": [
       "'tempo'"
      ]
     },
     "execution_count": 149,
     "metadata": {},
     "output_type": "execute_result"
    }
   ],
   "source": [
    "x_scaled_df.columns[10]"
   ]
  },
  {
   "cell_type": "markdown",
   "metadata": {},
   "source": [
    "#### removing the last 4 columns assigned as less important:"
   ]
  },
  {
   "cell_type": "code",
   "execution_count": 151,
   "metadata": {},
   "outputs": [],
   "source": [
    "x_scaled_rfe= x_scaled_df[[  'acousticness',               'danceability',\n",
    "                    'energy',\n",
    "                 'instrumentalness',\n",
    "                         'liveness',                   'loudness',\n",
    "                                           'speechiness',\n",
    "                             ('popularity_class', 'mean')]]"
   ]
  },
  {
   "cell_type": "code",
   "execution_count": 153,
   "metadata": {},
   "outputs": [
    {
     "data": {
      "text/html": [
       "<div>\n",
       "<style scoped>\n",
       "    .dataframe tbody tr th:only-of-type {\n",
       "        vertical-align: middle;\n",
       "    }\n",
       "\n",
       "    .dataframe tbody tr th {\n",
       "        vertical-align: top;\n",
       "    }\n",
       "\n",
       "    .dataframe thead th {\n",
       "        text-align: right;\n",
       "    }\n",
       "</style>\n",
       "<table border=\"1\" class=\"dataframe\">\n",
       "  <thead>\n",
       "    <tr style=\"text-align: right;\">\n",
       "      <th></th>\n",
       "      <th>acousticness</th>\n",
       "      <th>danceability</th>\n",
       "      <th>energy</th>\n",
       "      <th>instrumentalness</th>\n",
       "      <th>liveness</th>\n",
       "      <th>loudness</th>\n",
       "      <th>speechiness</th>\n",
       "      <th>(popularity_class, mean)</th>\n",
       "    </tr>\n",
       "  </thead>\n",
       "  <tbody>\n",
       "    <tr>\n",
       "      <td>0</td>\n",
       "      <td>-0.974080</td>\n",
       "      <td>0.849826</td>\n",
       "      <td>-0.884312</td>\n",
       "      <td>-0.621709</td>\n",
       "      <td>-0.677783</td>\n",
       "      <td>0.350838</td>\n",
       "      <td>2.388752</td>\n",
       "      <td>1.399712</td>\n",
       "    </tr>\n",
       "    <tr>\n",
       "      <td>1</td>\n",
       "      <td>-0.920325</td>\n",
       "      <td>1.391714</td>\n",
       "      <td>-0.046852</td>\n",
       "      <td>-0.621709</td>\n",
       "      <td>0.543208</td>\n",
       "      <td>0.414862</td>\n",
       "      <td>2.774832</td>\n",
       "      <td>1.399712</td>\n",
       "    </tr>\n",
       "    <tr>\n",
       "      <td>2</td>\n",
       "      <td>-0.918589</td>\n",
       "      <td>0.113279</td>\n",
       "      <td>0.590848</td>\n",
       "      <td>-0.621709</td>\n",
       "      <td>-0.670628</td>\n",
       "      <td>0.624050</td>\n",
       "      <td>-0.535807</td>\n",
       "      <td>1.323375</td>\n",
       "    </tr>\n",
       "    <tr>\n",
       "      <td>3</td>\n",
       "      <td>-0.905859</td>\n",
       "      <td>1.149706</td>\n",
       "      <td>0.037663</td>\n",
       "      <td>1.909328</td>\n",
       "      <td>-0.569277</td>\n",
       "      <td>-0.327610</td>\n",
       "      <td>-0.337136</td>\n",
       "      <td>-0.661406</td>\n",
       "    </tr>\n",
       "    <tr>\n",
       "      <td>4</td>\n",
       "      <td>-0.990817</td>\n",
       "      <td>1.060268</td>\n",
       "      <td>0.855916</td>\n",
       "      <td>1.814969</td>\n",
       "      <td>-0.963952</td>\n",
       "      <td>-0.046299</td>\n",
       "      <td>-0.369310</td>\n",
       "      <td>-0.661406</td>\n",
       "    </tr>\n",
       "  </tbody>\n",
       "</table>\n",
       "</div>"
      ],
      "text/plain": [
       "   acousticness  danceability    energy  instrumentalness  liveness  loudness  \\\n",
       "0     -0.974080      0.849826 -0.884312         -0.621709 -0.677783  0.350838   \n",
       "1     -0.920325      1.391714 -0.046852         -0.621709  0.543208  0.414862   \n",
       "2     -0.918589      0.113279  0.590848         -0.621709 -0.670628  0.624050   \n",
       "3     -0.905859      1.149706  0.037663          1.909328 -0.569277 -0.327610   \n",
       "4     -0.990817      1.060268  0.855916          1.814969 -0.963952 -0.046299   \n",
       "\n",
       "   speechiness  (popularity_class, mean)  \n",
       "0     2.388752                  1.399712  \n",
       "1     2.774832                  1.399712  \n",
       "2    -0.535807                  1.323375  \n",
       "3    -0.337136                 -0.661406  \n",
       "4    -0.369310                 -0.661406  "
      ]
     },
     "execution_count": 153,
     "metadata": {},
     "output_type": "execute_result"
    }
   ],
   "source": [
    "x_scaled_rfe.head()"
   ]
  },
  {
   "cell_type": "markdown",
   "metadata": {},
   "source": [
    "#### Train test split on the RFE selected columns:"
   ]
  },
  {
   "cell_type": "code",
   "execution_count": 170,
   "metadata": {},
   "outputs": [],
   "source": [
    "log_model_rfe = LogisticRegression()"
   ]
  },
  {
   "cell_type": "code",
   "execution_count": 171,
   "metadata": {},
   "outputs": [],
   "source": [
    "x_train1, x_test1, y_train1, y_test1 = train_test_split(x_scaled_rfe,y, test_size = 0.30, random_state = 1)"
   ]
  },
  {
   "cell_type": "code",
   "execution_count": 178,
   "metadata": {},
   "outputs": [
    {
     "data": {
      "text/plain": [
       "((39199, 8), (91464, 8), (91464, 1), (39199, 1))"
      ]
     },
     "execution_count": 178,
     "metadata": {},
     "output_type": "execute_result"
    }
   ],
   "source": [
    "x_test1.shape, x_train1.shape,y_train1.shape, y_test1.shape"
   ]
  },
  {
   "cell_type": "code",
   "execution_count": 172,
   "metadata": {},
   "outputs": [
    {
     "data": {
      "text/plain": [
       "LogisticRegression(C=1.0, class_weight=None, dual=False, fit_intercept=True,\n",
       "          intercept_scaling=1, max_iter=100, multi_class='warn',\n",
       "          n_jobs=None, penalty='l2', random_state=None, solver='warn',\n",
       "          tol=0.0001, verbose=0, warm_start=False)"
      ]
     },
     "execution_count": 172,
     "metadata": {},
     "output_type": "execute_result"
    }
   ],
   "source": [
    "log_model_rfe.fit(x_train1, y_train1)"
   ]
  },
  {
   "cell_type": "code",
   "execution_count": 173,
   "metadata": {},
   "outputs": [],
   "source": [
    "y_pred_log2=log_model_rfe.predict(x_test1)"
   ]
  },
  {
   "cell_type": "code",
   "execution_count": 174,
   "metadata": {},
   "outputs": [],
   "source": [
    "y_pred_log3=log_model_rfe.predict_proba(x_test1)[:,1]"
   ]
  },
  {
   "cell_type": "code",
   "execution_count": 186,
   "metadata": {},
   "outputs": [
    {
     "name": "stdout",
     "output_type": "stream",
     "text": [
      "Accuracy: 0.9272430419143346\n",
      "Training set accuracy: 0.927\n",
      "Test set accuracy: 0.927\n",
      "roc_auc: 0.9767681577930559\n"
     ]
    }
   ],
   "source": [
    "# Model Accuracy, how well the model performs after RFE CV:\n",
    "print(\"Accuracy:\",metrics.accuracy_score(y_test1, y_pred_log2))\n",
    "print(\"Training set accuracy: {:.3f}\".format(log_model_rfe.score(x_train1, y_train1)))\n",
    "print(\"Test set accuracy: {:.3f}\".format(log_model_rfe.score(x_test1, y_test1)))\n",
    "print('roc_auc:',metrics.roc_auc_score(y_test1,y_pred_log3))"
   ]
  },
  {
   "cell_type": "code",
   "execution_count": 188,
   "metadata": {},
   "outputs": [
    {
     "name": "stdout",
     "output_type": "stream",
     "text": [
      "              precision    recall  f1-score   support\n",
      "\n",
      "           0       0.94      0.96      0.95     29789\n",
      "           1       0.87      0.82      0.84      9410\n",
      "\n",
      "   micro avg       0.93      0.93      0.93     39199\n",
      "   macro avg       0.91      0.89      0.90     39199\n",
      "weighted avg       0.93      0.93      0.93     39199\n",
      "\n"
     ]
    }
   ],
   "source": [
    "print(classification_report(y_test1,y_pred_log2))"
   ]
  },
  {
   "cell_type": "code",
   "execution_count": 192,
   "metadata": {},
   "outputs": [
    {
     "data": {
      "text/plain": [
       "<matplotlib.axes._subplots.AxesSubplot at 0x15a177032e8>"
      ]
     },
     "execution_count": 192,
     "metadata": {},
     "output_type": "execute_result"
    },
    {
     "data": {
      "image/png": "[encoded data removed]",
      "text/plain": [
       "<Figure size 360x216 with 2 Axes>"
      ]
     },
     "metadata": {
      "needs_background": "light"
     },
     "output_type": "display_data"
    }
   ],
   "source": [
    "cm=confusion_matrix(y_test,y_pred_log)\n",
    "conf_matrix=pd.DataFrame(data=cm,columns=['Predicted:0','Predicted:1'],index=['Actual:0','Actual:1'])\n",
    "plt.figure(figsize = (5,3))\n",
    "sns.heatmap(conf_matrix, annot=True,fmt='d',cmap=\"YlGnBu\")"
   ]
  },
  {
   "cell_type": "code",
   "execution_count": 193,
   "metadata": {},
   "outputs": [
    {
     "data": {
      "text/plain": [
       "<matplotlib.axes._subplots.AxesSubplot at 0x15a12e61908>"
      ]
     },
     "execution_count": 193,
     "metadata": {},
     "output_type": "execute_result"
    },
    {
     "data": {
      "image/png": "[encoded data removed]",
      "text/plain": [
       "<Figure size 360x216 with 2 Axes>"
      ]
     },
     "metadata": {
      "needs_background": "light"
     },
     "output_type": "display_data"
    }
   ],
   "source": [
    "cm=confusion_matrix(y_test1,y_pred_log2)\n",
    "conf_matrix=pd.DataFrame(data=cm,columns=['Predicted:0','Predicted:1'],index=['Actual:0','Actual:1'])\n",
    "plt.figure(figsize = (5,3))\n",
    "sns.heatmap(conf_matrix, annot=True,fmt='d',cmap=\"YlGnBu\")"
   ]
  },
  {
   "cell_type": "code",
   "execution_count": 187,
   "metadata": {},
   "outputs": [
    {
     "name": "stdout",
     "output_type": "stream",
     "text": [
      "ROC_AUC: 0.9767028463193501 VAR: 0.0016422457575698663 logistic\n"
     ]
    }
   ],
   "source": [
    "for model,name in zip([log_model_rfe],[\"logistic\"]):# Cross Validating by passing the complete scaled data( rfe selected)\n",
    "    error=[]\n",
    "    kfold=KFold(shuffle=True,n_splits=10,random_state=0)\n",
    "    error=cross_val_score(model,x_scaled_rfe,y,scoring='roc_auc',cv=kfold)\n",
    "    print(\"ROC_AUC:\",np.mean(error),\"VAR:\",np.std(error,ddof=1),name)"
   ]
  },
  {
   "cell_type": "code",
   "execution_count": null,
   "metadata": {},
   "outputs": [],
   "source": [
    "### passing df_4 ... after vif score:"
   ]
  },
  {
   "cell_type": "code",
   "execution_count": null,
   "metadata": {},
   "outputs": [],
   "source": []
  },
  {
   "cell_type": "code",
   "execution_count": null,
   "metadata": {},
   "outputs": [],
   "source": [
    "for model,name in zip([log_model_rfe],[\"logistic\"]):# Cross Validating by passing the complete scaled data( rfe selected)\n",
    "    error=[]\n",
    "    kfold=KFold(shuffle=True,n_splits=10,random_state=0)\n",
    "    error=cross_val_score(model,x_scaled_rfe,y,scoring='roc_auc',cv=kfold)\n",
    "    print(\"ROC_AUC:\",np.mean(error),\"VAR:\",np.std(error,ddof=1),name)"
   ]
  },
  {
   "cell_type": "markdown",
   "metadata": {},
   "source": [
    "## Naive Bayes:"
   ]
  },
  {
   "cell_type": "code",
   "execution_count": 113,
   "metadata": {},
   "outputs": [],
   "source": [
    "from sklearn.naive_bayes import GaussianNB"
   ]
  },
  {
   "cell_type": "markdown",
   "metadata": {},
   "source": [
    "NB=GaussianNB()"
   ]
  },
  {
   "cell_type": "code",
   "execution_count": 115,
   "metadata": {},
   "outputs": [
    {
     "data": {
      "text/plain": [
       "GaussianNB(priors=None, var_smoothing=1e-09)"
      ]
     },
     "execution_count": 115,
     "metadata": {},
     "output_type": "execute_result"
    }
   ],
   "source": [
    "NB.fit(x_train,y_train)"
   ]
  },
  {
   "cell_type": "code",
   "execution_count": 116,
   "metadata": {},
   "outputs": [],
   "source": [
    "y_pred_NB=NB.predict(y_test)"
   ]
  },
  {
   "cell_type": "markdown",
   "metadata": {},
   "source": [
    "## NB  MODEL EVALUATION: "
   ]
  },
  {
   "cell_type": "markdown",
   "metadata": {},
   "source": [
    "### checking the accuracy on Train/ Test split"
   ]
  },
  {
   "cell_type": "code",
   "execution_count": 117,
   "metadata": {},
   "outputs": [
    {
     "name": "stdout",
     "output_type": "stream",
     "text": [
      "Accuracy: 1.0\n",
      "Training set accuracy: 0.917\n",
      "Test set accuracy: 0.918\n",
      "roc_auc: 1.0\n"
     ]
    }
   ],
   "source": [
    "# Model Accuracy, how well the model performs                            ##### model seems to be overfitting\n",
    "print(\"Accuracy:\",metrics.accuracy_score(y_test, y_pred_NB))\n",
    "print(\"Training set accuracy: {:.3f}\".format(NB.score(x_train, y_train)))\n",
    "print(\"Test set accuracy: {:.3f}\".format(NB.score(x_test, y_test)))\n",
    "print('roc_auc:',metrics.roc_auc_score(y_test,y_pred_NB))"
   ]
  },
  {
   "cell_type": "code",
   "execution_count": 128,
   "metadata": {},
   "outputs": [
    {
     "name": "stdout",
     "output_type": "stream",
     "text": [
      "              precision    recall  f1-score   support\n",
      "\n",
      "           0       1.00      1.00      1.00     29789\n",
      "           1       1.00      1.00      1.00      9410\n",
      "\n",
      "   micro avg       1.00      1.00      1.00     39199\n",
      "   macro avg       1.00      1.00      1.00     39199\n",
      "weighted avg       1.00      1.00      1.00     39199\n",
      "\n"
     ]
    }
   ],
   "source": [
    "from sklearn.metrics import classification_report\n",
    "print(classification_report(y_test,y_pred_NB))"
   ]
  },
  {
   "cell_type": "code",
   "execution_count": 129,
   "metadata": {},
   "outputs": [
    {
     "data": {
      "text/plain": [
       "<matplotlib.axes._subplots.AxesSubplot at 0x15a16d8b128>"
      ]
     },
     "execution_count": 129,
     "metadata": {},
     "output_type": "execute_result"
    },
    {
     "data": {
      "image/png": "[encoded data removed]",
      "text/plain": [
       "<Figure size 576x360 with 2 Axes>"
      ]
     },
     "metadata": {
      "needs_background": "light"
     },
     "output_type": "display_data"
    }
   ],
   "source": [
    "cm=confusion_matrix(y_test,y_pred_NB)\n",
    "conf_matrix=pd.DataFrame(data=cm,columns=['Predicted:0','Predicted:1'],index=['Actual:0','Actual:1'])\n",
    "plt.figure(figsize = (8,5))\n",
    "sns.heatmap(conf_matrix, annot=True,fmt='d',cmap=\"YlGnBu\")"
   ]
  },
  {
   "cell_type": "markdown",
   "metadata": {},
   "source": [
    "## checking the accuracy on cross validation:"
   ]
  },
  {
   "cell_type": "code",
   "execution_count": 126,
   "metadata": {},
   "outputs": [
    {
     "name": "stdout",
     "output_type": "stream",
     "text": [
      "ROC_AUC: 0.9534619438340947 VAR: 0.0031256505660450283 Naive_Bayes\n"
     ]
    }
   ],
   "source": [
    "for model,name in zip([NB],[\"Naive_Bayes\"]):# Cross Validating by passing the complete scaled data\n",
    "    error=[]\n",
    "    kfold=KFold(shuffle=True,n_splits=10,random_state=0)\n",
    "    error=cross_val_score(model,x_scaled,y,scoring='roc_auc',cv=kfold)\n",
    "    print(\"ROC_AUC:\",np.mean(error),\"VAR:\",np.std(error,ddof=1),name)"
   ]
  },
  {
   "cell_type": "markdown",
   "metadata": {},
   "source": [
    "## DECISION TREE:"
   ]
  },
  {
   "cell_type": "code",
   "execution_count": 97,
   "metadata": {},
   "outputs": [],
   "source": [
    "from sklearn.linear_model import LogisticRegression\n",
    "from sklearn import metrics\n",
    "from sklearn.model_selection import KFold, cross_val_score\n",
    "import warnings\n",
    "warnings.filterwarnings(\"ignore\")\n",
    "from sklearn.tree import DecisionTreeClassifier"
   ]
  },
  {
   "cell_type": "code",
   "execution_count": 98,
   "metadata": {},
   "outputs": [],
   "source": [
    "DT = DecisionTreeClassifier()"
   ]
  },
  {
   "cell_type": "code",
   "execution_count": 100,
   "metadata": {},
   "outputs": [],
   "source": [
    "from  sklearn.model_selection import train_test_split\n",
    "from sklearn import metrics\n",
    "from sklearn.metrics import classification_report"
   ]
  },
  {
   "cell_type": "code",
   "execution_count": 101,
   "metadata": {},
   "outputs": [],
   "source": [
    "x_train, x_test, y_train, y_test = train_test_split(x_scaled,y, test_size = 0.30, random_state = 1)"
   ]
  },
  {
   "cell_type": "code",
   "execution_count": 102,
   "metadata": {},
   "outputs": [
    {
     "data": {
      "text/plain": [
       "DecisionTreeClassifier(class_weight=None, criterion='gini', max_depth=None,\n",
       "            max_features=None, max_leaf_nodes=None,\n",
       "            min_impurity_decrease=0.0, min_impurity_split=None,\n",
       "            min_samples_leaf=1, min_samples_split=2,\n",
       "            min_weight_fraction_leaf=0.0, presort=False, random_state=None,\n",
       "            splitter='best')"
      ]
     },
     "execution_count": 102,
     "metadata": {},
     "output_type": "execute_result"
    }
   ],
   "source": [
    "DT.fit(x_train, y_train)"
   ]
  },
  {
   "cell_type": "code",
   "execution_count": 103,
   "metadata": {},
   "outputs": [],
   "source": [
    "y_pred=DT.predict(x_test)"
   ]
  },
  {
   "cell_type": "code",
   "execution_count": 104,
   "metadata": {},
   "outputs": [
    {
     "name": "stdout",
     "output_type": "stream",
     "text": [
      "Accuracy: 0.8981861782188321\n",
      "Training set accuracy: 1.000\n",
      "Test set accuracy: 0.898\n",
      "roc_auc: 0.8619838096846152\n"
     ]
    }
   ],
   "source": [
    "# Model Accuracy, how well the model performs\n",
    "print(\"Accuracy:\",metrics.accuracy_score(y_test, y_pred))\n",
    "print(\"Training set accuracy: {:.3f}\".format(DT.score(x_train, y_train)))\n",
    "print(\"Test set accuracy: {:.3f}\".format(DT.score(x_test, y_test)))\n",
    "print('roc_auc:',metrics.roc_auc_score(y_test,y_pred))"
   ]
  },
  {
   "cell_type": "code",
   "execution_count": 105,
   "metadata": {},
   "outputs": [],
   "source": [
    "y_pred1=DT.predict_proba(x_test)[:,1]"
   ]
  },
  {
   "cell_type": "code",
   "execution_count": 106,
   "metadata": {},
   "outputs": [
    {
     "data": {
      "text/plain": [
       "(39199,)"
      ]
     },
     "execution_count": 106,
     "metadata": {},
     "output_type": "execute_result"
    }
   ],
   "source": [
    "y_pred1.shape"
   ]
  },
  {
   "cell_type": "code",
   "execution_count": 107,
   "metadata": {},
   "outputs": [
    {
     "name": "stdout",
     "output_type": "stream",
     "text": [
      "roc_auc: 0.8627123913572929\n"
     ]
    }
   ],
   "source": [
    "print('roc_auc:',metrics.roc_auc_score(y_test,y_pred1))"
   ]
  },
  {
   "cell_type": "code",
   "execution_count": 108,
   "metadata": {},
   "outputs": [],
   "source": [
    "from sklearn.metrics import accuracy_score,f1_score,recall_score,precision_score, confusion_matrix"
   ]
  },
  {
   "cell_type": "code",
   "execution_count": 109,
   "metadata": {},
   "outputs": [
    {
     "name": "stdout",
     "output_type": "stream",
     "text": [
      "[[27752  2037]\n",
      " [ 1954  7456]]\n"
     ]
    }
   ],
   "source": [
    "print(confusion_matrix(y_test,y_pred))"
   ]
  },
  {
   "cell_type": "code",
   "execution_count": 110,
   "metadata": {},
   "outputs": [
    {
     "name": "stdout",
     "output_type": "stream",
     "text": [
      "              precision    recall  f1-score   support\n",
      "\n",
      "           0       0.93      0.93      0.93     29789\n",
      "           1       0.79      0.79      0.79      9410\n",
      "\n",
      "   micro avg       0.90      0.90      0.90     39199\n",
      "   macro avg       0.86      0.86      0.86     39199\n",
      "weighted avg       0.90      0.90      0.90     39199\n",
      "\n"
     ]
    }
   ],
   "source": [
    "from sklearn.metrics import classification_report\n",
    "print(classification_report(y_test,y_pred))"
   ]
  },
  {
   "cell_type": "markdown",
   "metadata": {},
   "source": [
    "<h2>Hyperparameter Tuning"
   ]
  },
  {
   "cell_type": "code",
   "execution_count": 111,
   "metadata": {},
   "outputs": [],
   "source": [
    "x_train, x_test, y_train, y_test = train_test_split(x_scaled,y, test_size = 0.30, random_state = 0)"
   ]
  },
  {
   "cell_type": "code",
   "execution_count": 112,
   "metadata": {},
   "outputs": [],
   "source": [
    "from sklearn.model_selection import RandomizedSearchCV, GridSearchCV"
   ]
  },
  {
   "cell_type": "code",
   "execution_count": 113,
   "metadata": {},
   "outputs": [],
   "source": [
    "dt = DecisionTreeClassifier()"
   ]
  },
  {
   "cell_type": "code",
   "execution_count": 114,
   "metadata": {},
   "outputs": [],
   "source": [
    "tuned = {'criterion': ['gini', 'entropy'], 'max_depth': range(7,15)}"
   ]
  },
  {
   "cell_type": "code",
   "execution_count": 115,
   "metadata": {},
   "outputs": [],
   "source": [
    "dec = RandomizedSearchCV(dt, tuned, cv=10)"
   ]
  },
  {
   "cell_type": "code",
   "execution_count": 116,
   "metadata": {},
   "outputs": [
    {
     "data": {
      "text/plain": [
       "RandomizedSearchCV(cv=10, error_score='raise-deprecating',\n",
       "          estimator=DecisionTreeClassifier(class_weight=None, criterion='gini', max_depth=None,\n",
       "            max_features=None, max_leaf_nodes=None,\n",
       "            min_impurity_decrease=0.0, min_impurity_split=None,\n",
       "            min_samples_leaf=1, min_samples_split=2,\n",
       "            min_weight_fraction_leaf=0.0, presort=False, random_state=None,\n",
       "            splitter='best'),\n",
       "          fit_params=None, iid='warn', n_iter=10, n_jobs=None,\n",
       "          param_distributions={'criterion': ['gini', 'entropy'], 'max_depth': range(7, 15)},\n",
       "          pre_dispatch='2*n_jobs', random_state=None, refit=True,\n",
       "          return_train_score='warn', scoring=None, verbose=0)"
      ]
     },
     "execution_count": 116,
     "metadata": {},
     "output_type": "execute_result"
    }
   ],
   "source": [
    "dec.fit(x_train, y_train)"
   ]
  },
  {
   "cell_type": "code",
   "execution_count": 117,
   "metadata": {},
   "outputs": [
    {
     "data": {
      "text/plain": [
       "{'max_depth': 7, 'criterion': 'entropy'}"
      ]
     },
     "execution_count": 117,
     "metadata": {},
     "output_type": "execute_result"
    }
   ],
   "source": [
    "dec.best_params_"
   ]
  },
  {
   "cell_type": "code",
   "execution_count": 50,
   "metadata": {},
   "outputs": [],
   "source": [
    "#Modeling using best params"
   ]
  },
  {
   "cell_type": "code",
   "execution_count": 118,
   "metadata": {},
   "outputs": [],
   "source": [
    "dec_tree = DecisionTreeClassifier(max_depth=7, criterion='entropy')"
   ]
  },
  {
   "cell_type": "code",
   "execution_count": 119,
   "metadata": {},
   "outputs": [
    {
     "data": {
      "text/plain": [
       "DecisionTreeClassifier(class_weight=None, criterion='entropy', max_depth=7,\n",
       "            max_features=None, max_leaf_nodes=None,\n",
       "            min_impurity_decrease=0.0, min_impurity_split=None,\n",
       "            min_samples_leaf=1, min_samples_split=2,\n",
       "            min_weight_fraction_leaf=0.0, presort=False, random_state=None,\n",
       "            splitter='best')"
      ]
     },
     "execution_count": 119,
     "metadata": {},
     "output_type": "execute_result"
    }
   ],
   "source": [
    "dec_tree.fit(x_train, y_train)"
   ]
  },
  {
   "cell_type": "code",
   "execution_count": 120,
   "metadata": {},
   "outputs": [],
   "source": [
    "y_pred = dec_tree.predict(x_test)"
   ]
  },
  {
   "cell_type": "code",
   "execution_count": null,
   "metadata": {},
   "outputs": [],
   "source": []
  },
  {
   "cell_type": "code",
   "execution_count": 121,
   "metadata": {},
   "outputs": [
    {
     "name": "stdout",
     "output_type": "stream",
     "text": [
      "Accuracy: 0.9272940636240721\n",
      "Training set accuracy: 0.927\n",
      "Test set accuracy: 0.927\n",
      "roc_auc: 0.8846318165922443\n"
     ]
    }
   ],
   "source": [
    "# Model Accuracy, how well the model performs\n",
    "print(\"Accuracy:\",metrics.accuracy_score(y_test, y_pred))\n",
    "print(\"Training set accuracy: {:.3f}\".format(dec_tree.score(x_train, y_train)))\n",
    "print(\"Test set accuracy: {:.3f}\".format(dec_tree.score(x_test, y_test)))\n",
    "print('roc_auc:',metrics.roc_auc_score(y_test,y_pred))"
   ]
  },
  {
   "cell_type": "code",
   "execution_count": 122,
   "metadata": {},
   "outputs": [
    {
     "name": "stdout",
     "output_type": "stream",
     "text": [
      "              precision    recall  f1-score   support\n",
      "\n",
      "           0       0.94      0.97      0.95     29836\n",
      "           1       0.88      0.80      0.84      9363\n",
      "\n",
      "   micro avg       0.93      0.93      0.93     39199\n",
      "   macro avg       0.91      0.88      0.90     39199\n",
      "weighted avg       0.93      0.93      0.93     39199\n",
      "\n"
     ]
    }
   ],
   "source": [
    "from sklearn.metrics import classification_report\n",
    "print(classification_report(y_test,y_pred))"
   ]
  },
  {
   "cell_type": "markdown",
   "metadata": {},
   "source": [
    "# AdaBoostClassifier"
   ]
  },
  {
   "cell_type": "code",
   "execution_count": 127,
   "metadata": {},
   "outputs": [],
   "source": [
    "from sklearn.ensemble import AdaBoostClassifier"
   ]
  },
  {
   "cell_type": "code",
   "execution_count": 128,
   "metadata": {},
   "outputs": [],
   "source": [
    "ada = AdaBoostClassifier(n_estimators=50,random_state=0) #default decision tree"
   ]
  },
  {
   "cell_type": "code",
   "execution_count": 129,
   "metadata": {},
   "outputs": [
    {
     "data": {
      "text/plain": [
       "AdaBoostClassifier(algorithm='SAMME.R', base_estimator=None,\n",
       "          learning_rate=1.0, n_estimators=50, random_state=0)"
      ]
     },
     "execution_count": 129,
     "metadata": {},
     "output_type": "execute_result"
    }
   ],
   "source": [
    "ada.fit(x_train, y_train)"
   ]
  },
  {
   "cell_type": "code",
   "execution_count": 130,
   "metadata": {},
   "outputs": [],
   "source": [
    "y_pred = ada.predict(x_test)"
   ]
  },
  {
   "cell_type": "code",
   "execution_count": 131,
   "metadata": {},
   "outputs": [
    {
     "name": "stdout",
     "output_type": "stream",
     "text": [
      "Accuracy: 0.9281359218347407\n",
      "Training set accuracy: 0.926\n",
      "Test set accuracy: 0.928\n",
      "roc_auc: 0.9021507381081157\n"
     ]
    }
   ],
   "source": [
    "# Model Accuracy, how well the model performs\n",
    "print(\"Accuracy:\",metrics.accuracy_score(y_test, y_pred))\n",
    "print(\"Training set accuracy: {:.3f}\".format(ada.score(x_train, y_train)))\n",
    "print(\"Test set accuracy: {:.3f}\".format(ada.score(x_test, y_test)))\n",
    "print('roc_auc:',metrics.roc_auc_score(y_test,y_pred))"
   ]
  },
  {
   "cell_type": "code",
   "execution_count": null,
   "metadata": {},
   "outputs": [],
   "source": []
  },
  {
   "cell_type": "code",
   "execution_count": 132,
   "metadata": {},
   "outputs": [],
   "source": [
    "tuned = {'n_estimators': np.arange(10,51,10)}"
   ]
  },
  {
   "cell_type": "code",
   "execution_count": 133,
   "metadata": {},
   "outputs": [],
   "source": [
    "ada_hp = RandomizedSearchCV(ada, tuned, cv=10)"
   ]
  },
  {
   "cell_type": "code",
   "execution_count": 134,
   "metadata": {},
   "outputs": [
    {
     "data": {
      "text/plain": [
       "RandomizedSearchCV(cv=10, error_score='raise-deprecating',\n",
       "          estimator=AdaBoostClassifier(algorithm='SAMME.R', base_estimator=None,\n",
       "          learning_rate=1.0, n_estimators=50, random_state=0),\n",
       "          fit_params=None, iid='warn', n_iter=10, n_jobs=None,\n",
       "          param_distributions={'n_estimators': array([10, 20, 30, 40, 50])},\n",
       "          pre_dispatch='2*n_jobs', random_state=None, refit=True,\n",
       "          return_train_score='warn', scoring=None, verbose=0)"
      ]
     },
     "execution_count": 134,
     "metadata": {},
     "output_type": "execute_result"
    }
   ],
   "source": [
    "ada_hp.fit(x_train, y_train)"
   ]
  },
  {
   "cell_type": "code",
   "execution_count": 135,
   "metadata": {},
   "outputs": [
    {
     "data": {
      "text/plain": [
       "{'n_estimators': 50}"
      ]
     },
     "execution_count": 135,
     "metadata": {},
     "output_type": "execute_result"
    }
   ],
   "source": [
    "ada_hp.best_params_ #Therefore, we don't need to rebuild the model"
   ]
  },
  {
   "cell_type": "code",
   "execution_count": null,
   "metadata": {},
   "outputs": [],
   "source": []
  },
  {
   "cell_type": "code",
   "execution_count": null,
   "metadata": {},
   "outputs": [],
   "source": []
  },
  {
   "cell_type": "code",
   "execution_count": null,
   "metadata": {},
   "outputs": [],
   "source": []
  },
  {
   "cell_type": "markdown",
   "metadata": {},
   "source": [
    "<h2>Random Forest"
   ]
  },
  {
   "cell_type": "code",
   "execution_count": 136,
   "metadata": {},
   "outputs": [],
   "source": [
    "from sklearn.ensemble import RandomForestClassifier"
   ]
  },
  {
   "cell_type": "code",
   "execution_count": 137,
   "metadata": {},
   "outputs": [],
   "source": [
    "RF = RandomForestClassifier() #Base Model"
   ]
  },
  {
   "cell_type": "code",
   "execution_count": 138,
   "metadata": {},
   "outputs": [
    {
     "data": {
      "text/plain": [
       "RandomForestClassifier(bootstrap=True, class_weight=None, criterion='gini',\n",
       "            max_depth=None, max_features='auto', max_leaf_nodes=None,\n",
       "            min_impurity_decrease=0.0, min_impurity_split=None,\n",
       "            min_samples_leaf=1, min_samples_split=2,\n",
       "            min_weight_fraction_leaf=0.0, n_estimators=10, n_jobs=None,\n",
       "            oob_score=False, random_state=None, verbose=0,\n",
       "            warm_start=False)"
      ]
     },
     "execution_count": 138,
     "metadata": {},
     "output_type": "execute_result"
    }
   ],
   "source": [
    "RF.fit(x_train, y_train)"
   ]
  },
  {
   "cell_type": "code",
   "execution_count": 139,
   "metadata": {},
   "outputs": [],
   "source": [
    "y_pred=RF.predict(x_test)"
   ]
  },
  {
   "cell_type": "code",
   "execution_count": 140,
   "metadata": {},
   "outputs": [
    {
     "name": "stdout",
     "output_type": "stream",
     "text": [
      "Accuracy: 0.9226255771830913\n",
      "Training set accuracy: 0.995\n",
      "Test set accuracy: 0.923\n",
      "roc_auc: 0.8806856097966544\n"
     ]
    }
   ],
   "source": [
    "# Model Accuracy, how well the model performs\n",
    "print(\"Accuracy:\",metrics.accuracy_score(y_test, y_pred))\n",
    "print(\"Training set accuracy: {:.3f}\".format(RF.score(x_train, y_train)))\n",
    "print(\"Test set accuracy: {:.3f}\".format(RF.score(x_test, y_test)))\n",
    "print('roc_auc:',metrics.roc_auc_score(y_test,y_pred))"
   ]
  },
  {
   "cell_type": "code",
   "execution_count": 141,
   "metadata": {},
   "outputs": [
    {
     "name": "stdout",
     "output_type": "stream",
     "text": [
      "roc_auc: 0.8806856097966544\n"
     ]
    }
   ],
   "source": [
    "print('roc_auc:',metrics.roc_auc_score(y_test,y_pred))"
   ]
  },
  {
   "cell_type": "code",
   "execution_count": 142,
   "metadata": {},
   "outputs": [],
   "source": [
    "from sklearn.metrics import accuracy_score,f1_score,recall_score,precision_score, confusion_matrix"
   ]
  },
  {
   "cell_type": "code",
   "execution_count": 143,
   "metadata": {},
   "outputs": [
    {
     "name": "stdout",
     "output_type": "stream",
     "text": [
      "[[28672  1164]\n",
      " [ 1869  7494]]\n"
     ]
    }
   ],
   "source": [
    "print(confusion_matrix(y_test,y_pred))"
   ]
  },
  {
   "cell_type": "code",
   "execution_count": 144,
   "metadata": {},
   "outputs": [
    {
     "name": "stdout",
     "output_type": "stream",
     "text": [
      "              precision    recall  f1-score   support\n",
      "\n",
      "           0       0.94      0.96      0.95     29836\n",
      "           1       0.87      0.80      0.83      9363\n",
      "\n",
      "   micro avg       0.92      0.92      0.92     39199\n",
      "   macro avg       0.90      0.88      0.89     39199\n",
      "weighted avg       0.92      0.92      0.92     39199\n",
      "\n"
     ]
    }
   ],
   "source": [
    "from sklearn.metrics import classification_report\n",
    "print(classification_report(y_test,y_pred))"
   ]
  },
  {
   "cell_type": "markdown",
   "metadata": {},
   "source": [
    "# Hyperparameter Tuning"
   ]
  },
  {
   "cell_type": "code",
   "execution_count": 146,
   "metadata": {},
   "outputs": [],
   "source": [
    "x_train, x_test, y_train, y_test = train_test_split(x_scaled,y, test_size = 0.30, random_state = 0)"
   ]
  },
  {
   "cell_type": "code",
   "execution_count": 147,
   "metadata": {},
   "outputs": [],
   "source": [
    "from sklearn.model_selection import RandomizedSearchCV, GridSearchCV"
   ]
  },
  {
   "cell_type": "code",
   "execution_count": 148,
   "metadata": {},
   "outputs": [],
   "source": [
    "rf = RandomForestClassifier()"
   ]
  },
  {
   "cell_type": "code",
   "execution_count": 149,
   "metadata": {},
   "outputs": [],
   "source": [
    "tuned = {'criterion': ['gini', 'entropy'], 'max_depth': range(7,15), 'n_estimators': [50, 100, 200 ]}"
   ]
  },
  {
   "cell_type": "code",
   "execution_count": 150,
   "metadata": {},
   "outputs": [],
   "source": [
    "rand = RandomizedSearchCV(rf, tuned, cv=10)"
   ]
  },
  {
   "cell_type": "code",
   "execution_count": 151,
   "metadata": {},
   "outputs": [
    {
     "data": {
      "text/plain": [
       "RandomizedSearchCV(cv=10, error_score='raise-deprecating',\n",
       "          estimator=RandomForestClassifier(bootstrap=True, class_weight=None, criterion='gini',\n",
       "            max_depth=None, max_features='auto', max_leaf_nodes=None,\n",
       "            min_impurity_decrease=0.0, min_impurity_split=None,\n",
       "            min_samples_leaf=1, min_samples_split=2,\n",
       "            min_weight_fraction_leaf=0.0, n_estimators='warn', n_jobs=None,\n",
       "            oob_score=False, random_state=None, verbose=0,\n",
       "            warm_start=False),\n",
       "          fit_params=None, iid='warn', n_iter=10, n_jobs=None,\n",
       "          param_distributions={'criterion': ['gini', 'entropy'], 'max_depth': range(7, 15), 'n_estimators': [50, 100, 200]},\n",
       "          pre_dispatch='2*n_jobs', random_state=None, refit=True,\n",
       "          return_train_score='warn', scoring=None, verbose=0)"
      ]
     },
     "execution_count": 151,
     "metadata": {},
     "output_type": "execute_result"
    }
   ],
   "source": [
    "rand.fit(x_train, y_train)"
   ]
  },
  {
   "cell_type": "code",
   "execution_count": 152,
   "metadata": {},
   "outputs": [
    {
     "data": {
      "text/plain": [
       "{'n_estimators': 100, 'max_depth': 14, 'criterion': 'gini'}"
      ]
     },
     "execution_count": 152,
     "metadata": {},
     "output_type": "execute_result"
    }
   ],
   "source": [
    "rand.best_params_"
   ]
  },
  {
   "cell_type": "code",
   "execution_count": 153,
   "metadata": {},
   "outputs": [],
   "source": [
    "ran = RandomForestClassifier(n_estimators = 100, max_depth =  14, criterion =  'gini') #Best Params"
   ]
  },
  {
   "cell_type": "code",
   "execution_count": 154,
   "metadata": {},
   "outputs": [
    {
     "data": {
      "text/plain": [
       "RandomForestClassifier(bootstrap=True, class_weight=None, criterion='gini',\n",
       "            max_depth=14, max_features='auto', max_leaf_nodes=None,\n",
       "            min_impurity_decrease=0.0, min_impurity_split=None,\n",
       "            min_samples_leaf=1, min_samples_split=2,\n",
       "            min_weight_fraction_leaf=0.0, n_estimators=100, n_jobs=None,\n",
       "            oob_score=False, random_state=None, verbose=0,\n",
       "            warm_start=False)"
      ]
     },
     "execution_count": 154,
     "metadata": {},
     "output_type": "execute_result"
    }
   ],
   "source": [
    "ran.fit(x_train, y_train)"
   ]
  },
  {
   "cell_type": "code",
   "execution_count": 155,
   "metadata": {},
   "outputs": [],
   "source": [
    "y_pred=ran.predict(x_test)"
   ]
  },
  {
   "cell_type": "code",
   "execution_count": 156,
   "metadata": {},
   "outputs": [
    {
     "name": "stdout",
     "output_type": "stream",
     "text": [
      "Accuracy: 0.929411464578178\n",
      "Training set accuracy: 0.952\n",
      "Test set accuracy: 0.929\n",
      "roc_auc: 0.8996907452362638\n"
     ]
    }
   ],
   "source": [
    "# Model Accuracy, how well the model peranorms\n",
    "print(\"Accuracy:\",metrics.accuracy_score(y_test, y_pred))\n",
    "print(\"Training set accuracy: {:.3f}\".format(ran.score(x_train, y_train)))\n",
    "print(\"Test set accuracy: {:.3f}\".format(ran.score(x_test, y_test)))\n",
    "print('roc_auc:',metrics.roc_auc_score(y_test,y_pred))"
   ]
  },
  {
   "cell_type": "code",
   "execution_count": 157,
   "metadata": {},
   "outputs": [
    {
     "name": "stdout",
     "output_type": "stream",
     "text": [
      "roc_auc: 0.8996907452362638\n"
     ]
    }
   ],
   "source": [
    "print('roc_auc:',metrics.roc_auc_score(y_test,y_pred))"
   ]
  },
  {
   "cell_type": "code",
   "execution_count": 158,
   "metadata": {},
   "outputs": [],
   "source": [
    "from sklearn.metrics import accuracy_score,f1_score,recall_score,precision_score, confusion_matrix"
   ]
  },
  {
   "cell_type": "code",
   "execution_count": 159,
   "metadata": {},
   "outputs": [
    {
     "name": "stdout",
     "output_type": "stream",
     "text": [
      "[[28541  1295]\n",
      " [ 1472  7891]]\n"
     ]
    }
   ],
   "source": [
    "print(confusion_matrix(y_test,y_pred))"
   ]
  },
  {
   "cell_type": "code",
   "execution_count": 161,
   "metadata": {},
   "outputs": [
    {
     "name": "stdout",
     "output_type": "stream",
     "text": [
      "              precision    recall  f1-score   support\n",
      "\n",
      "           0       0.95      0.96      0.95     29836\n",
      "           1       0.86      0.84      0.85      9363\n",
      "\n",
      "   micro avg       0.93      0.93      0.93     39199\n",
      "   macro avg       0.90      0.90      0.90     39199\n",
      "weighted avg       0.93      0.93      0.93     39199\n",
      "\n"
     ]
    }
   ],
   "source": [
    "from sklearn.metrics import classification_report\n",
    "print(classification_report(y_test,y_pred))"
   ]
  },
  {
   "cell_type": "code",
   "execution_count": null,
   "metadata": {},
   "outputs": [],
   "source": []
  }
 ],
 "metadata": {
  "kernelspec": {
   "display_name": "Python 3",
   "language": "python",
   "name": "python3"
  },
  "language_info": {
   "codemirror_mode": {
    "name": "ipython",
    "version": 3
   },
   "file_extension": ".py",
   "mimetype": "text/x-python",
   "name": "python",
   "nbconvert_exporter": "python",
   "pygments_lexer": "ipython3",
   "version": "3.7.3"
  }
 },
 "nbformat": 4,
 "nbformat_minor": 2
}
